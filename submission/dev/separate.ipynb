{
 "cells": [
  {
   "cell_type": "code",
   "execution_count": 32,
   "metadata": {
    "ExecuteTime": {
     "end_time": "2020-06-22T11:50:53.844749Z",
     "start_time": "2020-06-22T11:50:53.841190Z"
    }
   },
   "outputs": [],
   "source": [
    "import numpy as np\n",
    "from collections import defaultdict\n",
    "\n",
    "import pymongo\n",
    "from pymongo import MongoClient\n",
    "import pyparsing as pp\n",
    "import pandas as pd"
   ]
  },
  {
   "cell_type": "code",
   "execution_count": 25,
   "metadata": {
    "ExecuteTime": {
     "end_time": "2020-06-22T11:48:47.842421Z",
     "start_time": "2020-06-22T11:48:47.837799Z"
    }
   },
   "outputs": [],
   "source": [
    "client = MongoClient()"
   ]
  },
  {
   "cell_type": "code",
   "execution_count": 26,
   "metadata": {
    "ExecuteTime": {
     "end_time": "2020-06-22T11:49:07.368220Z",
     "start_time": "2020-06-22T11:49:07.365217Z"
    }
   },
   "outputs": [],
   "source": [
    "db = client['growdb']"
   ]
  },
  {
   "cell_type": "code",
   "execution_count": 54,
   "metadata": {
    "ExecuteTime": {
     "end_time": "2020-06-22T11:58:03.846187Z",
     "start_time": "2020-06-22T11:58:03.841139Z"
    }
   },
   "outputs": [],
   "source": [
    "coll = db['timeseries']"
   ]
  },
  {
   "cell_type": "code",
   "execution_count": 55,
   "metadata": {
    "ExecuteTime": {
     "end_time": "2020-06-22T11:58:04.188245Z",
     "start_time": "2020-06-22T11:58:04.184310Z"
    }
   },
   "outputs": [
    {
     "data": {
      "text/plain": [
       "Collection(Database(MongoClient(host=['localhost:27017'], document_class=dict, tz_aware=False, connect=True), 'growdb'), 'timeseries')"
      ]
     },
     "execution_count": 55,
     "metadata": {},
     "output_type": "execute_result"
    }
   ],
   "source": [
    "coll"
   ]
  },
  {
   "cell_type": "code",
   "execution_count": 60,
   "metadata": {
    "ExecuteTime": {
     "end_time": "2020-06-22T13:06:55.580181Z",
     "start_time": "2020-06-22T13:05:27.276012Z"
    }
   },
   "outputs": [],
   "source": [
    "serials = defaultdict(list)\n",
    "last_ind = defaultdict(int)\n",
    "\n",
    "with open('GrowTimeSeries_sub100k.csv', 'r') as f:\n",
    "    \n",
    "    lineind = 0\n",
    "\n",
    "    for line in f:\n",
    "        \n",
    "        if lineind == 0:\n",
    "            header = line\n",
    "            lineind += 1\n",
    "            continue\n",
    "            \n",
    "        line = line.strip()\n",
    "        words = pp.commaSeparatedList.parseString(line).asList()\n",
    "        \n",
    "        serial = words[0]\n",
    "        device = words[1]\n",
    "        reading_type = words[2]\n",
    "        value = float(words[3])\n",
    "        timenow = words[4]\n",
    "        \n",
    "        if serial[0] == '\"':\n",
    "            serial = serial[1:19]\n",
    "            \n",
    "        timenow = pd.to_datetime(timenow)\n",
    "            \n",
    "        doc = dict(\n",
    "            serial = serial,\n",
    "            device = device,\n",
    "            readingType = reading_type,\n",
    "            value = value,\n",
    "            datetime = timenow\n",
    "        )\n",
    "        \n",
    "        coll.insert_one(doc)\n",
    "        \n",
    "        lineind += 1"
   ]
  },
  {
   "cell_type": "code",
   "execution_count": 63,
   "metadata": {
    "ExecuteTime": {
     "end_time": "2020-06-22T13:11:58.096880Z",
     "start_time": "2020-06-22T13:11:58.093443Z"
    }
   },
   "outputs": [
    {
     "data": {
      "text/plain": [
       "168.29333333333335"
      ]
     },
     "execution_count": 63,
     "metadata": {},
     "output_type": "execute_result"
    }
   ],
   "source": [
    "6311 * 96 / 60 / 60"
   ]
  },
  {
   "cell_type": "code",
   "execution_count": null,
   "metadata": {},
   "outputs": [],
   "source": []
  },
  {
   "cell_type": "code",
   "execution_count": null,
   "metadata": {},
   "outputs": [],
   "source": []
  },
  {
   "cell_type": "code",
   "execution_count": null,
   "metadata": {},
   "outputs": [],
   "source": []
  },
  {
   "cell_type": "code",
   "execution_count": null,
   "metadata": {},
   "outputs": [],
   "source": []
  },
  {
   "cell_type": "code",
   "execution_count": null,
   "metadata": {},
   "outputs": [],
   "source": []
  },
  {
   "cell_type": "code",
   "execution_count": null,
   "metadata": {},
   "outputs": [],
   "source": []
  },
  {
   "cell_type": "code",
   "execution_count": null,
   "metadata": {},
   "outputs": [],
   "source": []
  },
  {
   "cell_type": "code",
   "execution_count": null,
   "metadata": {},
   "outputs": [],
   "source": []
  },
  {
   "cell_type": "code",
   "execution_count": null,
   "metadata": {},
   "outputs": [],
   "source": []
  }
 ],
 "metadata": {
  "kernelspec": {
   "display_name": "Python 3",
   "language": "python",
   "name": "python3"
  },
  "language_info": {
   "codemirror_mode": {
    "name": "ipython",
    "version": 3
   },
   "file_extension": ".py",
   "mimetype": "text/x-python",
   "name": "python",
   "nbconvert_exporter": "python",
   "pygments_lexer": "ipython3",
   "version": "3.8.2"
  }
 },
 "nbformat": 4,
 "nbformat_minor": 4
}
