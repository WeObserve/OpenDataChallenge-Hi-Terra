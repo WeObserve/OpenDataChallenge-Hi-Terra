{
 "cells": [
  {
   "cell_type": "markdown",
   "metadata": {},
   "source": [
    "## Trains an LSTM model\n",
    "\n",
    "#### inputs:\n",
    "- df_train01.csv\n",
    "- df_test01.csv\n",
    "- df_chunk_train01.csv\n",
    "- df_chunk_test01.csv\n",
    "\n",
    "#### outputs:\n",
    "- normalizer.pkl\n",
    "- batcher_train_lite_model03.pkl\n",
    "- model03_epoch199.pkl"
   ]
  },
  {
   "cell_type": "code",
   "execution_count": 1,
   "metadata": {
    "ExecuteTime": {
     "end_time": "2020-07-28T04:16:55.042750Z",
     "start_time": "2020-07-28T04:16:54.029310Z"
    }
   },
   "outputs": [],
   "source": [
    "import pandas as pd\n",
    "import numpy as np\n",
    "import datetime as dt\n",
    "import matplotlib.pyplot as plt\n",
    "import pickle\n",
    "import sys\n",
    "from importlib import reload\n",
    "import logging\n",
    "\n",
    "%matplotlib inline"
   ]
  },
  {
   "cell_type": "code",
   "execution_count": 2,
   "metadata": {
    "ExecuteTime": {
     "end_time": "2020-07-28T04:16:55.046784Z",
     "start_time": "2020-07-28T04:16:55.044604Z"
    }
   },
   "outputs": [],
   "source": [
    "sys.path.append('..')"
   ]
  },
  {
   "cell_type": "markdown",
   "metadata": {},
   "source": [
    "#### Load data"
   ]
  },
  {
   "cell_type": "code",
   "execution_count": 3,
   "metadata": {
    "ExecuteTime": {
     "end_time": "2020-07-28T04:16:58.776196Z",
     "start_time": "2020-07-28T04:16:55.048372Z"
    }
   },
   "outputs": [],
   "source": [
    "df_train = pd.read_csv('../data/df_train01.csv',  parse_dates=['Datetime'])\n",
    "\n",
    "\n",
    "df_chunk_train = pd.read_csv('../data/df_chunk_train01.csv')\n"
   ]
  },
  {
   "cell_type": "code",
   "execution_count": 4,
   "metadata": {
    "ExecuteTime": {
     "end_time": "2020-07-28T04:16:59.847105Z",
     "start_time": "2020-07-28T04:16:58.781218Z"
    },
    "scrolled": true
   },
   "outputs": [],
   "source": [
    "df_test = pd.read_csv('../data/df_test01.csv',  parse_dates=['Datetime'])\n",
    "df_chunk_test = pd.read_csv('../data/df_chunk_test01.csv')"
   ]
  },
  {
   "cell_type": "markdown",
   "metadata": {},
   "source": [
    "#### Create a normalizer object"
   ]
  },
  {
   "cell_type": "code",
   "execution_count": 5,
   "metadata": {
    "ExecuteTime": {
     "end_time": "2020-07-28T04:16:59.852379Z",
     "start_time": "2020-07-28T04:16:59.848850Z"
    }
   },
   "outputs": [],
   "source": [
    "from lib import normalizing as nr"
   ]
  },
  {
   "cell_type": "code",
   "execution_count": 6,
   "metadata": {
    "ExecuteTime": {
     "end_time": "2020-07-28T04:16:59.941127Z",
     "start_time": "2020-07-28T04:16:59.854739Z"
    }
   },
   "outputs": [],
   "source": [
    "normalizer = nr.Normalizer(meanstd=['temperature', 'apparent_temperature', 'dew_point',\n",
    "                                   'wind_speed', 'wind_gust'],\n",
    "                      minmax=['visibility', 'precip_intensity', 'Moisture',\n",
    "                              'Day', 'Hour', 'Month', 'Weekday'])"
   ]
  },
  {
   "cell_type": "code",
   "execution_count": 8,
   "metadata": {
    "ExecuteTime": {
     "end_time": "2020-07-28T04:17:04.962344Z",
     "start_time": "2020-07-28T04:17:04.638068Z"
    }
   },
   "outputs": [],
   "source": [
    "df_train = normalizer.normalize(df_train, init=True)"
   ]
  },
  {
   "cell_type": "code",
   "execution_count": null,
   "metadata": {},
   "outputs": [],
   "source": [
    "normalizer.save('./data/normalizer.pkl')"
   ]
  },
  {
   "cell_type": "markdown",
   "metadata": {},
   "source": [
    "#### Create batcher object"
   ]
  },
  {
   "cell_type": "code",
   "execution_count": 9,
   "metadata": {
    "ExecuteTime": {
     "end_time": "2020-07-28T04:17:06.199370Z",
     "start_time": "2020-07-28T04:17:05.933503Z"
    }
   },
   "outputs": [],
   "source": [
    "from lib import batching as bt"
   ]
  },
  {
   "cell_type": "code",
   "execution_count": 10,
   "metadata": {
    "ExecuteTime": {
     "end_time": "2020-07-28T04:17:06.305745Z",
     "start_time": "2020-07-28T04:17:06.302329Z"
    }
   },
   "outputs": [],
   "source": [
    "bt = reload(bt)"
   ]
  },
  {
   "cell_type": "code",
   "execution_count": 11,
   "metadata": {
    "ExecuteTime": {
     "end_time": "2020-07-28T04:17:07.530127Z",
     "start_time": "2020-07-28T04:17:07.527408Z"
    }
   },
   "outputs": [],
   "source": [
    "col_feats_prev = ['humidity', 'precip_probability',\n",
    "                  'precip_intensity', 'temperature', 'Moisture']\n",
    "col_feats_curr = ['precip_probability', 'humidity', 'cloud_cover',\n",
    "                  'apparent_temperature', 'dew_point', 'wind_speed',\n",
    "                  'wind_gust', 'visibility', 'precip_intensity',\n",
    "                  'Day', 'Hour', 'Month', 'Weekday'\n",
    "                 ]"
   ]
  },
  {
   "cell_type": "code",
   "execution_count": 13,
   "metadata": {
    "ExecuteTime": {
     "end_time": "2020-07-28T04:17:23.089636Z",
     "start_time": "2020-07-28T04:17:15.087996Z"
    },
    "scrolled": true
   },
   "outputs": [],
   "source": [
    "batcher_train = bt.BatcherTrain(df_train,\n",
    "                df_chunk_train,\n",
    "                40,\n",
    "                36,\n",
    "                col_dt='Datetime', # Datetime column name\n",
    "                 col_val='Moisture', # ts column name to be predicted\n",
    "                 col_gr = 'ChunkId',\n",
    "                 col_feats_prev = col_feats_prev, # prev-feature column names\n",
    "                 col_feats_current = col_feats_curr, # current feature column names\n",
    "                 minlen=25, # chunk lengths are randomly sampled, minimum chunk length\n",
    "                 maxlen=240        \n",
    "               )"
   ]
  },
  {
   "cell_type": "markdown",
   "metadata": {},
   "source": [
    "Save batcher without data for passing parameters to tester at v07.test01.ipynb"
   ]
  },
  {
   "cell_type": "code",
   "execution_count": null,
   "metadata": {},
   "outputs": [],
   "source": [
    "df_ts = batcher_train.df_ts\n",
    "batcher_train.df_ts = None\n",
    "batcher_train.save('./data/batcher_train_lite_model03.pkl')\n",
    "batcher_train.df_ts = df_ts"
   ]
  },
  {
   "cell_type": "markdown",
   "metadata": {},
   "source": [
    "#### Create LSTM model"
   ]
  },
  {
   "cell_type": "code",
   "execution_count": 14,
   "metadata": {
    "ExecuteTime": {
     "end_time": "2020-07-28T04:17:34.449296Z",
     "start_time": "2020-07-28T04:17:34.445583Z"
    }
   },
   "outputs": [],
   "source": [
    "from lib import lstm"
   ]
  },
  {
   "cell_type": "code",
   "execution_count": 44,
   "metadata": {
    "ExecuteTime": {
     "end_time": "2020-07-28T02:06:21.500073Z",
     "start_time": "2020-07-28T02:06:21.412037Z"
    }
   },
   "outputs": [],
   "source": [
    "lstm = reload(lstm)"
   ]
  },
  {
   "cell_type": "code",
   "execution_count": 45,
   "metadata": {
    "ExecuteTime": {
     "end_time": "2020-07-28T02:06:26.916386Z",
     "start_time": "2020-07-28T02:06:26.891657Z"
    }
   },
   "outputs": [],
   "source": [
    "model = lstm.LSTM(\n",
    "    batcher_train.n_feat,\n",
    "    200,\n",
    "    hiddens_before=[800],\n",
    "    hiddens_after=[800, batcher_train.out_time_len],\n",
    "    lr_init=0.001,\n",
    "    use_gpu=True\n",
    ")"
   ]
  },
  {
   "cell_type": "code",
   "execution_count": 46,
   "metadata": {
    "ExecuteTime": {
     "end_time": "2020-07-28T02:06:27.234545Z",
     "start_time": "2020-07-28T02:06:27.229506Z"
    }
   },
   "outputs": [
    {
     "name": "stderr",
     "output_type": "stream",
     "text": [
      "WARNING:root:Already on CPU, moving anyway!\n"
     ]
    }
   ],
   "source": [
    "model.move_cpu()"
   ]
  },
  {
   "cell_type": "markdown",
   "metadata": {},
   "source": [
    "Train the model"
   ]
  },
  {
   "cell_type": "code",
   "execution_count": null,
   "metadata": {
    "ExecuteTime": {
     "end_time": "2020-07-28T02:51:53.938549Z",
     "start_time": "2020-07-28T02:51:40.125507Z"
    },
    "scrolled": true
   },
   "outputs": [],
   "source": [
    "model.train_model(batcher_train, max_epochs=200, batchsize=150, save_every=None, save_folder=None)"
   ]
  },
  {
   "cell_type": "code",
   "execution_count": 15,
   "metadata": {
    "ExecuteTime": {
     "end_time": "2020-07-28T04:17:37.916419Z",
     "start_time": "2020-07-28T04:17:37.909581Z"
    }
   },
   "outputs": [],
   "source": [
    "import torch"
   ]
  },
  {
   "cell_type": "code",
   "execution_count": null,
   "metadata": {},
   "outputs": [],
   "source": [
    "torch.save(model, '../data/model03_epoch199.pkl')"
   ]
  },
  {
   "cell_type": "code",
   "execution_count": null,
   "metadata": {},
   "outputs": [],
   "source": []
  },
  {
   "cell_type": "code",
   "execution_count": null,
   "metadata": {},
   "outputs": [],
   "source": []
  },
  {
   "cell_type": "code",
   "execution_count": null,
   "metadata": {},
   "outputs": [],
   "source": []
  }
 ],
 "metadata": {
  "kernelspec": {
   "display_name": "Python 3",
   "language": "python",
   "name": "python3"
  },
  "language_info": {
   "codemirror_mode": {
    "name": "ipython",
    "version": 3
   },
   "file_extension": ".py",
   "mimetype": "text/x-python",
   "name": "python",
   "nbconvert_exporter": "python",
   "pygments_lexer": "ipython3",
   "version": "3.8.2"
  }
 },
 "nbformat": 4,
 "nbformat_minor": 4
}
