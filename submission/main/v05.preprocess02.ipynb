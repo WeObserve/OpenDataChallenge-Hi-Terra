{
 "cells": [
  {
   "cell_type": "markdown",
   "metadata": {},
   "source": [
    "## Final processing before modeling\n",
    "\n",
    "#### Inputs:\n",
    "- ts_data_pp01_chunked_moist_weather.pkl\n",
    "- chunk_data_pp01.pkl\n",
    "\n",
    "#### Outputs:\n",
    "- df_train01.csv\n",
    "- df_test01.csv\n",
    "- df_chunk_train01.csv\n",
    "- df_chunk_test01.csv\n",
    "- df_all01.csv\n",
    "- df_chunk01.csv"
   ]
  },
  {
   "cell_type": "code",
   "execution_count": 1,
   "metadata": {
    "ExecuteTime": {
     "end_time": "2020-07-28T01:17:45.301894Z",
     "start_time": "2020-07-28T01:17:44.796127Z"
    }
   },
   "outputs": [],
   "source": [
    "import pandas as pd\n",
    "import numpy as np\n",
    "import datetime as dt\n",
    "import matplotlib.pyplot as plt\n",
    "import pickle\n",
    "import sys\n",
    "from importlib import reload\n",
    "import logging\n",
    "\n",
    "%matplotlib inline"
   ]
  },
  {
   "cell_type": "code",
   "execution_count": 2,
   "metadata": {
    "ExecuteTime": {
     "end_time": "2020-07-28T01:17:46.367610Z",
     "start_time": "2020-07-28T01:17:46.363921Z"
    }
   },
   "outputs": [],
   "source": [
    "sys.path.append('..')"
   ]
  },
  {
   "cell_type": "code",
   "execution_count": 3,
   "metadata": {
    "ExecuteTime": {
     "end_time": "2020-07-28T01:17:47.385690Z",
     "start_time": "2020-07-28T01:17:46.842242Z"
    }
   },
   "outputs": [],
   "source": [
    "df_all = pd.read_pickle('../data/ts_data_pp01_chunked_moist_weather.pkl')\n",
    "df_chunk = pd.read_pickle('../data/chunk_data_pp01.pkl')"
   ]
  },
  {
   "cell_type": "markdown",
   "metadata": {},
   "source": [
    "#### Keep only the chunks that have more than 100 hours of data"
   ]
  },
  {
   "cell_type": "code",
   "execution_count": 4,
   "metadata": {
    "ExecuteTime": {
     "end_time": "2020-07-28T01:17:50.180098Z",
     "start_time": "2020-07-28T01:17:50.124771Z"
    }
   },
   "outputs": [],
   "source": [
    "ds_chuncounts = df_all.groupby('ChunkId').ChunkId.count()"
   ]
  },
  {
   "cell_type": "code",
   "execution_count": 5,
   "metadata": {
    "ExecuteTime": {
     "end_time": "2020-07-28T01:17:50.958355Z",
     "start_time": "2020-07-28T01:17:50.583328Z"
    }
   },
   "outputs": [],
   "source": [
    "df_all = df_all[df_all.ChunkId.isin(list(ds_chuncounts[ds_chuncounts > 100].index))]"
   ]
  },
  {
   "cell_type": "markdown",
   "metadata": {},
   "source": [
    "#### Remove multiply defined chunks"
   ]
  },
  {
   "cell_type": "code",
   "execution_count": 6,
   "metadata": {
    "ExecuteTime": {
     "end_time": "2020-07-28T01:17:51.915696Z",
     "start_time": "2020-07-28T01:17:51.847291Z"
    }
   },
   "outputs": [],
   "source": [
    "df_chunk = df_all.groupby('ChunkId').agg({'Latitude': 'first', 'Longitude': 'first', 'LocId': 'first'}).reset_index()"
   ]
  },
  {
   "cell_type": "code",
   "execution_count": 7,
   "metadata": {
    "ExecuteTime": {
     "end_time": "2020-07-28T01:17:52.567328Z",
     "start_time": "2020-07-28T01:17:52.563108Z"
    }
   },
   "outputs": [
    {
     "data": {
      "text/plain": [
       "((2332391, 18), (4912, 4))"
      ]
     },
     "execution_count": 7,
     "metadata": {},
     "output_type": "execute_result"
    }
   ],
   "source": [
    "df_all.shape, df_chunk.shape"
   ]
  },
  {
   "cell_type": "code",
   "execution_count": 8,
   "metadata": {
    "ExecuteTime": {
     "end_time": "2020-07-28T01:17:53.218643Z",
     "start_time": "2020-07-28T01:17:53.187343Z"
    }
   },
   "outputs": [
    {
     "data": {
      "text/plain": [
       "(1363, 4912)"
      ]
     },
     "execution_count": 8,
     "metadata": {},
     "output_type": "execute_result"
    }
   ],
   "source": [
    "df_all.LocId.nunique(), df_all.ChunkId.nunique()"
   ]
  },
  {
   "cell_type": "markdown",
   "metadata": {},
   "source": [
    "#### Remove chunks that have missing temperatures"
   ]
  },
  {
   "cell_type": "code",
   "execution_count": 9,
   "metadata": {
    "ExecuteTime": {
     "end_time": "2020-07-28T01:17:53.806136Z",
     "start_time": "2020-07-28T01:17:53.797522Z"
    }
   },
   "outputs": [],
   "source": [
    "df_all['IsTmpNull'] = df_all.temperature.isnull()"
   ]
  },
  {
   "cell_type": "code",
   "execution_count": 10,
   "metadata": {
    "ExecuteTime": {
     "end_time": "2020-07-28T01:17:55.982086Z",
     "start_time": "2020-07-28T01:17:55.602581Z"
    }
   },
   "outputs": [],
   "source": [
    "ds_chunks_full = df_all.groupby('ChunkId').IsTmpNull.sum() == 0\n",
    "chunks_full = list(ds_chunks_full[ds_chunks_full == True].index)\n",
    "df_all = df_all[df_all.ChunkId.isin(chunks_full)]"
   ]
  },
  {
   "cell_type": "code",
   "execution_count": 11,
   "metadata": {
    "ExecuteTime": {
     "end_time": "2020-07-28T01:17:57.205047Z",
     "start_time": "2020-07-28T01:17:57.150676Z"
    }
   },
   "outputs": [],
   "source": [
    "df_chunk = df_all.groupby('ChunkId').agg({'Latitude': 'first', 'Longitude': 'first', 'LocId': 'first'}).reset_index()"
   ]
  },
  {
   "cell_type": "code",
   "execution_count": 12,
   "metadata": {
    "ExecuteTime": {
     "end_time": "2020-07-28T01:17:57.676912Z",
     "start_time": "2020-07-28T01:17:57.672027Z"
    }
   },
   "outputs": [
    {
     "data": {
      "text/plain": [
       "((1781155, 19), (3967, 4))"
      ]
     },
     "execution_count": 12,
     "metadata": {},
     "output_type": "execute_result"
    }
   ],
   "source": [
    "df_all.shape, df_chunk.shape"
   ]
  },
  {
   "cell_type": "code",
   "execution_count": 13,
   "metadata": {
    "ExecuteTime": {
     "end_time": "2020-07-28T01:17:58.749005Z",
     "start_time": "2020-07-28T01:17:58.726191Z"
    }
   },
   "outputs": [
    {
     "data": {
      "text/plain": [
       "(1274, 3967)"
      ]
     },
     "execution_count": 13,
     "metadata": {},
     "output_type": "execute_result"
    }
   ],
   "source": [
    "df_all.LocId.nunique(), df_all.ChunkId.nunique()"
   ]
  },
  {
   "cell_type": "code",
   "execution_count": 14,
   "metadata": {
    "ExecuteTime": {
     "end_time": "2020-07-28T01:17:59.599547Z",
     "start_time": "2020-07-28T01:17:59.467893Z"
    }
   },
   "outputs": [],
   "source": [
    "df_chunk_sub = df_chunk.sample(50).copy()\n",
    "df_all_sub = df_all[df_all.ChunkId.isin(df_chunk_sub.ChunkId.values)].copy()"
   ]
  },
  {
   "cell_type": "markdown",
   "metadata": {},
   "source": [
    "#### Fill null data with means (first try chunk-mean, if all null, then try location-mean, if still null, use all data)"
   ]
  },
  {
   "cell_type": "code",
   "execution_count": 16,
   "metadata": {
    "ExecuteTime": {
     "end_time": "2020-07-28T01:18:08.521193Z",
     "start_time": "2020-07-28T01:18:08.317867Z"
    }
   },
   "outputs": [
    {
     "data": {
      "text/plain": [
       "LocId                         0\n",
       "Datetime                      0\n",
       "Moisture                      0\n",
       "Latitude                      0\n",
       "Longitude                     0\n",
       "ChunkBegin                    0\n",
       "ChunkId                       0\n",
       "precip_intensity          19433\n",
       "precip_probability        19433\n",
       "precip_type             1060915\n",
       "temperature                   0\n",
       "apparent_temperature          0\n",
       "dew_point                     0\n",
       "humidity                      0\n",
       "wind_speed                  117\n",
       "wind_gust                 27931\n",
       "cloud_cover               20424\n",
       "visibility                39250\n",
       "IsTmpNull                     0\n",
       "dtype: int64"
      ]
     },
     "execution_count": 16,
     "metadata": {},
     "output_type": "execute_result"
    }
   ],
   "source": [
    "df_all.isnull().sum()"
   ]
  },
  {
   "cell_type": "code",
   "execution_count": 17,
   "metadata": {
    "ExecuteTime": {
     "end_time": "2020-07-28T01:18:11.662210Z",
     "start_time": "2020-07-28T01:18:11.553767Z"
    }
   },
   "outputs": [
    {
     "data": {
      "text/plain": [
       "rain    691879\n",
       "snow     28361\n",
       "Name: precip_type, dtype: int64"
      ]
     },
     "execution_count": 17,
     "metadata": {},
     "output_type": "execute_result"
    }
   ],
   "source": [
    "df_all.precip_type.value_counts()"
   ]
  },
  {
   "cell_type": "code",
   "execution_count": 18,
   "metadata": {
    "ExecuteTime": {
     "end_time": "2020-07-28T01:18:49.508291Z",
     "start_time": "2020-07-28T01:18:25.000901Z"
    }
   },
   "outputs": [],
   "source": [
    "df_all['Day'] = df_all.Datetime.apply(lambda x: x.day)\n",
    "df_all['Hour'] = df_all.Datetime.apply(lambda x: x.hour)\n",
    "df_all['Month'] = df_all.Datetime.apply(lambda x: x.month)\n",
    "df_all['Weekday'] = df_all.Datetime.apply(lambda x: x.weekday())"
   ]
  },
  {
   "cell_type": "code",
   "execution_count": 19,
   "metadata": {
    "ExecuteTime": {
     "end_time": "2020-07-28T01:19:11.009671Z",
     "start_time": "2020-07-28T01:19:10.999757Z"
    }
   },
   "outputs": [],
   "source": [
    "def fill_nulls(colnow):\n",
    "    \n",
    "    print(colnow)\n",
    "    print(df_all[colnow].isnull().sum())\n",
    "    df_all[colnow] = df_all.groupby('ChunkId')[colnow].transform(lambda x: x.fillna(x.mean()))\n",
    "    print(df_all[colnow].isnull().sum())\n",
    "    df_all[colnow] = df_all.groupby('LocId')[colnow].transform(lambda x: x.fillna(x.mean()))\n",
    "    print(df_all[colnow].isnull().sum())\n",
    "    df_all[colnow] = df_all[colnow].fillna(df_all[colnow].mean())\n",
    "    print(df_all[colnow].isnull().sum())"
   ]
  },
  {
   "cell_type": "code",
   "execution_count": 21,
   "metadata": {
    "ExecuteTime": {
     "end_time": "2020-07-28T01:19:35.108145Z",
     "start_time": "2020-07-28T01:19:32.464032Z"
    }
   },
   "outputs": [
    {
     "name": "stdout",
     "output_type": "stream",
     "text": [
      "precip_intensity\n",
      "19433\n",
      "17525\n",
      "2370\n",
      "0\n"
     ]
    }
   ],
   "source": [
    "fill_nulls('precip_intensity')"
   ]
  },
  {
   "cell_type": "code",
   "execution_count": 22,
   "metadata": {
    "ExecuteTime": {
     "end_time": "2020-07-28T01:20:12.154947Z",
     "start_time": "2020-07-28T01:20:09.477010Z"
    }
   },
   "outputs": [
    {
     "name": "stdout",
     "output_type": "stream",
     "text": [
      "precip_probability\n",
      "19433\n",
      "17525\n",
      "2370\n",
      "0\n"
     ]
    }
   ],
   "source": [
    "fill_nulls('precip_probability')"
   ]
  },
  {
   "cell_type": "code",
   "execution_count": 23,
   "metadata": {
    "ExecuteTime": {
     "end_time": "2020-07-28T01:20:14.980340Z",
     "start_time": "2020-07-28T01:20:12.157865Z"
    }
   },
   "outputs": [
    {
     "name": "stdout",
     "output_type": "stream",
     "text": [
      "wind_speed\n",
      "117\n",
      "0\n",
      "0\n",
      "0\n"
     ]
    }
   ],
   "source": [
    "fill_nulls('wind_speed')"
   ]
  },
  {
   "cell_type": "code",
   "execution_count": 24,
   "metadata": {
    "ExecuteTime": {
     "end_time": "2020-07-28T01:20:18.260216Z",
     "start_time": "2020-07-28T01:20:14.982324Z"
    }
   },
   "outputs": [
    {
     "name": "stdout",
     "output_type": "stream",
     "text": [
      "wind_gust\n",
      "27931\n",
      "12568\n",
      "1297\n",
      "0\n"
     ]
    }
   ],
   "source": [
    "fill_nulls('wind_gust')"
   ]
  },
  {
   "cell_type": "code",
   "execution_count": 25,
   "metadata": {
    "ExecuteTime": {
     "end_time": "2020-07-28T01:20:20.756332Z",
     "start_time": "2020-07-28T01:20:18.262852Z"
    }
   },
   "outputs": [
    {
     "name": "stdout",
     "output_type": "stream",
     "text": [
      "cloud_cover\n",
      "20424\n",
      "0\n",
      "0\n",
      "0\n"
     ]
    }
   ],
   "source": [
    "fill_nulls('cloud_cover')"
   ]
  },
  {
   "cell_type": "code",
   "execution_count": 26,
   "metadata": {
    "ExecuteTime": {
     "end_time": "2020-07-28T01:20:24.134302Z",
     "start_time": "2020-07-28T01:20:20.757874Z"
    }
   },
   "outputs": [
    {
     "name": "stdout",
     "output_type": "stream",
     "text": [
      "visibility\n",
      "39250\n",
      "39169\n",
      "7569\n",
      "0\n"
     ]
    }
   ],
   "source": [
    "fill_nulls('visibility')"
   ]
  },
  {
   "cell_type": "code",
   "execution_count": 28,
   "metadata": {
    "ExecuteTime": {
     "end_time": "2020-07-28T01:23:51.803047Z",
     "start_time": "2020-07-28T01:23:51.799013Z"
    }
   },
   "outputs": [
    {
     "data": {
      "text/plain": [
       "(3967, 4)"
      ]
     },
     "execution_count": 28,
     "metadata": {},
     "output_type": "execute_result"
    }
   ],
   "source": [
    "df_chunk.shape"
   ]
  },
  {
   "cell_type": "markdown",
   "metadata": {},
   "source": [
    "#### Split data as train and test"
   ]
  },
  {
   "cell_type": "code",
   "execution_count": 29,
   "metadata": {
    "ExecuteTime": {
     "end_time": "2020-07-28T01:24:16.278807Z",
     "start_time": "2020-07-28T01:24:16.271599Z"
    }
   },
   "outputs": [
    {
     "data": {
      "text/plain": [
       "1274"
      ]
     },
     "execution_count": 29,
     "metadata": {},
     "output_type": "execute_result"
    }
   ],
   "source": [
    "df_chunk.LocId.nunique()"
   ]
  },
  {
   "cell_type": "code",
   "execution_count": 30,
   "metadata": {
    "ExecuteTime": {
     "end_time": "2020-07-28T01:26:46.247584Z",
     "start_time": "2020-07-28T01:26:45.977787Z"
    }
   },
   "outputs": [],
   "source": [
    "n_locs_train = 1000\n",
    "loc_ids = df_chunk.LocId.unique()\n",
    "\n",
    "inds_rand = np.random.permutation(np.arange(len(loc_ids)))\n",
    "loc_ids_train = loc_ids[inds_rand[:n_locs_train]]\n",
    "loc_ids_test = loc_ids[inds_rand[n_locs_train:]]\n",
    "\n",
    "df_chunk_train = df_chunk[df_chunk.LocId.isin(loc_ids_train)]\n",
    "df_chunk_test = df_chunk[df_chunk.LocId.isin(loc_ids_test)]\n",
    "\n",
    "df_train = df_all[df_all.ChunkId.isin(df_chunk_train.ChunkId.values)]\n",
    "df_test = df_all[df_all.ChunkId.isin(df_chunk_test.ChunkId.values)]"
   ]
  },
  {
   "cell_type": "code",
   "execution_count": 33,
   "metadata": {
    "ExecuteTime": {
     "end_time": "2020-07-28T01:27:24.924509Z",
     "start_time": "2020-07-28T01:27:24.916999Z"
    }
   },
   "outputs": [
    {
     "data": {
      "text/plain": [
       "(1000, 274)"
      ]
     },
     "execution_count": 33,
     "metadata": {},
     "output_type": "execute_result"
    }
   ],
   "source": [
    "df_chunk_train.LocId.nunique(), df_chunk_test.LocId.nunique()"
   ]
  },
  {
   "cell_type": "code",
   "execution_count": 32,
   "metadata": {
    "ExecuteTime": {
     "end_time": "2020-07-28T01:27:02.400390Z",
     "start_time": "2020-07-28T01:27:02.396264Z"
    }
   },
   "outputs": [
    {
     "data": {
      "text/plain": [
       "((3086, 4), (881, 4))"
      ]
     },
     "execution_count": 32,
     "metadata": {},
     "output_type": "execute_result"
    }
   ],
   "source": [
    "df_chunk_train.shape, df_chunk_test.shape"
   ]
  },
  {
   "cell_type": "code",
   "execution_count": 31,
   "metadata": {
    "ExecuteTime": {
     "end_time": "2020-07-28T01:26:52.219944Z",
     "start_time": "2020-07-28T01:26:52.215566Z"
    }
   },
   "outputs": [
    {
     "data": {
      "text/plain": [
       "((1392707, 23), (388448, 23))"
      ]
     },
     "execution_count": 31,
     "metadata": {},
     "output_type": "execute_result"
    }
   ],
   "source": [
    "df_train.shape, df_test.shape"
   ]
  },
  {
   "cell_type": "code",
   "execution_count": 34,
   "metadata": {
    "ExecuteTime": {
     "end_time": "2020-07-28T01:28:57.328443Z",
     "start_time": "2020-07-28T01:28:26.352809Z"
    }
   },
   "outputs": [],
   "source": [
    "df_train.to_csv('../data/df_train01.csv')\n",
    "df_test.to_csv('../data/df_test01.csv')\n",
    "\n",
    "df_chunk_train.to_csv('../data/df_chunk_train01.csv')\n",
    "df_chunk_test.to_csv('../data/df_chunk_test01.csv')"
   ]
  },
  {
   "cell_type": "code",
   "execution_count": 35,
   "metadata": {
    "ExecuteTime": {
     "end_time": "2020-07-28T01:29:45.901598Z",
     "start_time": "2020-07-28T01:29:12.933553Z"
    }
   },
   "outputs": [],
   "source": [
    "df_all.to_csv('../data/df_all01.csv')\n",
    "df_chunk.to_csv('../data/df_chunk01.csv')"
   ]
  },
  {
   "cell_type": "code",
   "execution_count": null,
   "metadata": {},
   "outputs": [],
   "source": []
  },
  {
   "cell_type": "code",
   "execution_count": null,
   "metadata": {},
   "outputs": [],
   "source": []
  },
  {
   "cell_type": "code",
   "execution_count": null,
   "metadata": {},
   "outputs": [],
   "source": []
  },
  {
   "cell_type": "code",
   "execution_count": null,
   "metadata": {},
   "outputs": [],
   "source": []
  },
  {
   "cell_type": "code",
   "execution_count": null,
   "metadata": {},
   "outputs": [],
   "source": []
  },
  {
   "cell_type": "code",
   "execution_count": null,
   "metadata": {},
   "outputs": [],
   "source": []
  }
 ],
 "metadata": {
  "kernelspec": {
   "display_name": "Python 3",
   "language": "python",
   "name": "python3"
  },
  "language_info": {
   "codemirror_mode": {
    "name": "ipython",
    "version": 3
   },
   "file_extension": ".py",
   "mimetype": "text/x-python",
   "name": "python",
   "nbconvert_exporter": "python",
   "pygments_lexer": "ipython3",
   "version": "3.8.2"
  }
 },
 "nbformat": 4,
 "nbformat_minor": 4
}
