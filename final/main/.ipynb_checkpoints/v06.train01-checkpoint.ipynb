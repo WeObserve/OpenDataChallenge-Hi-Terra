{
 "cells": [
  {
   "cell_type": "markdown",
   "metadata": {},
   "source": [
    "## Trains an LSTM model\n",
    "\n",
    "#### inputs:\n",
    "- df_train01.csv\n",
    "- df_test01.csv\n",
    "- df_chunk_train01.csv\n",
    "- df_chunk_test01.csv\n",
    "\n",
    "#### outputs:\n",
    "- normalizer.pkl\n",
    "- batcher_train_lite_model03.pkl\n",
    "- model03_epoch199.pkl"
   ]
  },
  {
   "cell_type": "code",
   "execution_count": 11,
   "metadata": {
    "ExecuteTime": {
     "end_time": "2020-07-28T04:16:55.042750Z",
     "start_time": "2020-07-28T04:16:54.029310Z"
    }
   },
   "outputs": [],
   "source": [
    "import pandas as pd\n",
    "import numpy as np\n",
    "import datetime as dt\n",
    "import matplotlib.pyplot as plt\n",
    "import pickle\n",
    "import sys\n",
    "from importlib import reload\n",
    "import logging\n",
    "\n",
    "%matplotlib inline"
   ]
  },
  {
   "cell_type": "code",
   "execution_count": 12,
   "metadata": {
    "ExecuteTime": {
     "end_time": "2020-07-28T04:16:55.046784Z",
     "start_time": "2020-07-28T04:16:55.044604Z"
    }
   },
   "outputs": [],
   "source": [
    "sys.path.append('..')"
   ]
  },
  {
   "cell_type": "markdown",
   "metadata": {},
   "source": [
    "#### Load data"
   ]
  },
  {
   "cell_type": "code",
   "execution_count": 13,
   "metadata": {
    "ExecuteTime": {
     "end_time": "2020-07-28T04:16:58.776196Z",
     "start_time": "2020-07-28T04:16:55.048372Z"
    }
   },
   "outputs": [],
   "source": [
    "df_train = pd.read_csv('../data/df_train01.csv',  parse_dates=['Datetime'])\n",
    "\n",
    "\n",
    "df_chunk_train = pd.read_csv('../data/df_chunk_train01.csv')\n"
   ]
  },
  {
   "cell_type": "code",
   "execution_count": 14,
   "metadata": {
    "ExecuteTime": {
     "end_time": "2020-07-28T04:16:59.847105Z",
     "start_time": "2020-07-28T04:16:58.781218Z"
    },
    "scrolled": true
   },
   "outputs": [],
   "source": [
    "df_test = pd.read_csv('../data/df_test01.csv',  parse_dates=['Datetime'])\n",
    "df_chunk_test = pd.read_csv('../data/df_chunk_test01.csv')"
   ]
  },
  {
   "cell_type": "code",
   "execution_count": 15,
   "metadata": {},
   "outputs": [
    {
     "data": {
      "text/html": [
       "<div>\n",
       "<style scoped>\n",
       "    .dataframe tbody tr th:only-of-type {\n",
       "        vertical-align: middle;\n",
       "    }\n",
       "\n",
       "    .dataframe tbody tr th {\n",
       "        vertical-align: top;\n",
       "    }\n",
       "\n",
       "    .dataframe thead th {\n",
       "        text-align: right;\n",
       "    }\n",
       "</style>\n",
       "<table border=\"1\" class=\"dataframe\">\n",
       "  <thead>\n",
       "    <tr style=\"text-align: right;\">\n",
       "      <th></th>\n",
       "      <th>Unnamed: 0</th>\n",
       "      <th>LocId</th>\n",
       "      <th>Datetime</th>\n",
       "      <th>Moisture</th>\n",
       "      <th>Latitude</th>\n",
       "      <th>Longitude</th>\n",
       "      <th>ChunkBegin</th>\n",
       "      <th>ChunkId</th>\n",
       "      <th>precip_intensity</th>\n",
       "      <th>precip_probability</th>\n",
       "      <th>...</th>\n",
       "      <th>humidity</th>\n",
       "      <th>wind_speed</th>\n",
       "      <th>wind_gust</th>\n",
       "      <th>cloud_cover</th>\n",
       "      <th>visibility</th>\n",
       "      <th>IsTmpNull</th>\n",
       "      <th>Day</th>\n",
       "      <th>Hour</th>\n",
       "      <th>Month</th>\n",
       "      <th>Weekday</th>\n",
       "    </tr>\n",
       "  </thead>\n",
       "  <tbody>\n",
       "    <tr>\n",
       "      <th>0</th>\n",
       "      <td>647</td>\n",
       "      <td>6</td>\n",
       "      <td>2018-11-26 14:00:00</td>\n",
       "      <td>25.465000</td>\n",
       "      <td>47.594</td>\n",
       "      <td>19.362</td>\n",
       "      <td>True</td>\n",
       "      <td>2</td>\n",
       "      <td>1.1862</td>\n",
       "      <td>0.81</td>\n",
       "      <td>...</td>\n",
       "      <td>0.82</td>\n",
       "      <td>5.04</td>\n",
       "      <td>10.95</td>\n",
       "      <td>1.0</td>\n",
       "      <td>1.865</td>\n",
       "      <td>False</td>\n",
       "      <td>26</td>\n",
       "      <td>14</td>\n",
       "      <td>11</td>\n",
       "      <td>0</td>\n",
       "    </tr>\n",
       "    <tr>\n",
       "      <th>1</th>\n",
       "      <td>648</td>\n",
       "      <td>6</td>\n",
       "      <td>2018-11-26 15:00:00</td>\n",
       "      <td>26.537500</td>\n",
       "      <td>47.594</td>\n",
       "      <td>19.362</td>\n",
       "      <td>False</td>\n",
       "      <td>2</td>\n",
       "      <td>1.2085</td>\n",
       "      <td>0.79</td>\n",
       "      <td>...</td>\n",
       "      <td>0.81</td>\n",
       "      <td>5.03</td>\n",
       "      <td>11.21</td>\n",
       "      <td>1.0</td>\n",
       "      <td>3.107</td>\n",
       "      <td>False</td>\n",
       "      <td>26</td>\n",
       "      <td>15</td>\n",
       "      <td>11</td>\n",
       "      <td>0</td>\n",
       "    </tr>\n",
       "    <tr>\n",
       "      <th>2</th>\n",
       "      <td>649</td>\n",
       "      <td>6</td>\n",
       "      <td>2018-11-26 16:00:00</td>\n",
       "      <td>26.816250</td>\n",
       "      <td>47.594</td>\n",
       "      <td>19.362</td>\n",
       "      <td>False</td>\n",
       "      <td>2</td>\n",
       "      <td>1.0150</td>\n",
       "      <td>0.76</td>\n",
       "      <td>...</td>\n",
       "      <td>0.79</td>\n",
       "      <td>5.11</td>\n",
       "      <td>11.38</td>\n",
       "      <td>1.0</td>\n",
       "      <td>3.861</td>\n",
       "      <td>False</td>\n",
       "      <td>26</td>\n",
       "      <td>16</td>\n",
       "      <td>11</td>\n",
       "      <td>0</td>\n",
       "    </tr>\n",
       "    <tr>\n",
       "      <th>3</th>\n",
       "      <td>650</td>\n",
       "      <td>6</td>\n",
       "      <td>2018-11-26 17:00:00</td>\n",
       "      <td>26.248749</td>\n",
       "      <td>47.594</td>\n",
       "      <td>19.362</td>\n",
       "      <td>False</td>\n",
       "      <td>2</td>\n",
       "      <td>0.7393</td>\n",
       "      <td>0.72</td>\n",
       "      <td>...</td>\n",
       "      <td>0.77</td>\n",
       "      <td>5.19</td>\n",
       "      <td>11.48</td>\n",
       "      <td>1.0</td>\n",
       "      <td>4.739</td>\n",
       "      <td>False</td>\n",
       "      <td>26</td>\n",
       "      <td>17</td>\n",
       "      <td>11</td>\n",
       "      <td>0</td>\n",
       "    </tr>\n",
       "    <tr>\n",
       "      <th>4</th>\n",
       "      <td>651</td>\n",
       "      <td>6</td>\n",
       "      <td>2018-11-26 18:00:00</td>\n",
       "      <td>25.555000</td>\n",
       "      <td>47.594</td>\n",
       "      <td>19.362</td>\n",
       "      <td>False</td>\n",
       "      <td>2</td>\n",
       "      <td>0.5413</td>\n",
       "      <td>0.63</td>\n",
       "      <td>...</td>\n",
       "      <td>0.78</td>\n",
       "      <td>4.15</td>\n",
       "      <td>8.25</td>\n",
       "      <td>1.0</td>\n",
       "      <td>14.807</td>\n",
       "      <td>False</td>\n",
       "      <td>26</td>\n",
       "      <td>18</td>\n",
       "      <td>11</td>\n",
       "      <td>0</td>\n",
       "    </tr>\n",
       "  </tbody>\n",
       "</table>\n",
       "<p>5 rows × 24 columns</p>\n",
       "</div>"
      ],
      "text/plain": [
       "   Unnamed: 0  LocId            Datetime   Moisture  Latitude  Longitude  \\\n",
       "0         647      6 2018-11-26 14:00:00  25.465000    47.594     19.362   \n",
       "1         648      6 2018-11-26 15:00:00  26.537500    47.594     19.362   \n",
       "2         649      6 2018-11-26 16:00:00  26.816250    47.594     19.362   \n",
       "3         650      6 2018-11-26 17:00:00  26.248749    47.594     19.362   \n",
       "4         651      6 2018-11-26 18:00:00  25.555000    47.594     19.362   \n",
       "\n",
       "   ChunkBegin  ChunkId  precip_intensity  precip_probability  ... humidity  \\\n",
       "0        True        2            1.1862                0.81  ...     0.82   \n",
       "1       False        2            1.2085                0.79  ...     0.81   \n",
       "2       False        2            1.0150                0.76  ...     0.79   \n",
       "3       False        2            0.7393                0.72  ...     0.77   \n",
       "4       False        2            0.5413                0.63  ...     0.78   \n",
       "\n",
       "   wind_speed  wind_gust  cloud_cover  visibility  IsTmpNull  Day  Hour  \\\n",
       "0        5.04      10.95          1.0       1.865      False   26    14   \n",
       "1        5.03      11.21          1.0       3.107      False   26    15   \n",
       "2        5.11      11.38          1.0       3.861      False   26    16   \n",
       "3        5.19      11.48          1.0       4.739      False   26    17   \n",
       "4        4.15       8.25          1.0      14.807      False   26    18   \n",
       "\n",
       "   Month  Weekday  \n",
       "0     11        0  \n",
       "1     11        0  \n",
       "2     11        0  \n",
       "3     11        0  \n",
       "4     11        0  \n",
       "\n",
       "[5 rows x 24 columns]"
      ]
     },
     "execution_count": 15,
     "metadata": {},
     "output_type": "execute_result"
    }
   ],
   "source": [
    "df_train.head()"
   ]
  },
  {
   "cell_type": "markdown",
   "metadata": {},
   "source": [
    "#### Create a normalizer object"
   ]
  },
  {
   "cell_type": "code",
   "execution_count": 16,
   "metadata": {
    "ExecuteTime": {
     "end_time": "2020-07-28T04:16:59.852379Z",
     "start_time": "2020-07-28T04:16:59.848850Z"
    }
   },
   "outputs": [],
   "source": [
    "from lib import normalizing as nr"
   ]
  },
  {
   "cell_type": "code",
   "execution_count": 17,
   "metadata": {
    "ExecuteTime": {
     "end_time": "2020-07-28T04:16:59.941127Z",
     "start_time": "2020-07-28T04:16:59.854739Z"
    }
   },
   "outputs": [],
   "source": [
    "normalizer = nr.Normalizer(meanstd=['temperature', 'apparent_temperature', 'dew_point',\n",
    "                                   'wind_speed', 'wind_gust'],\n",
    "                      minmax=['visibility', 'precip_intensity', 'Moisture',\n",
    "                              'Day', 'Hour', 'Month', 'Weekday'])"
   ]
  },
  {
   "cell_type": "code",
   "execution_count": 18,
   "metadata": {
    "ExecuteTime": {
     "end_time": "2020-07-28T04:17:04.962344Z",
     "start_time": "2020-07-28T04:17:04.638068Z"
    }
   },
   "outputs": [],
   "source": [
    "df_train = normalizer.normalize(df_train, init=True)"
   ]
  },
  {
   "cell_type": "code",
   "execution_count": 20,
   "metadata": {},
   "outputs": [],
   "source": [
    "normalizer.save('../data/normalizer.pkl')"
   ]
  },
  {
   "cell_type": "markdown",
   "metadata": {},
   "source": [
    "#### Create batcher object"
   ]
  },
  {
   "cell_type": "code",
   "execution_count": 21,
   "metadata": {
    "ExecuteTime": {
     "end_time": "2020-07-28T04:17:06.199370Z",
     "start_time": "2020-07-28T04:17:05.933503Z"
    }
   },
   "outputs": [],
   "source": [
    "from lib import batching as bt"
   ]
  },
  {
   "cell_type": "code",
   "execution_count": 22,
   "metadata": {
    "ExecuteTime": {
     "end_time": "2020-07-28T04:17:06.305745Z",
     "start_time": "2020-07-28T04:17:06.302329Z"
    }
   },
   "outputs": [],
   "source": [
    "bt = reload(bt)"
   ]
  },
  {
   "cell_type": "code",
   "execution_count": 23,
   "metadata": {
    "ExecuteTime": {
     "end_time": "2020-07-28T04:17:07.530127Z",
     "start_time": "2020-07-28T04:17:07.527408Z"
    }
   },
   "outputs": [],
   "source": [
    "col_feats_prev = ['humidity', 'precip_probability',\n",
    "                  'precip_intensity', 'temperature', 'Moisture']\n",
    "col_feats_curr = ['precip_probability', 'humidity', 'cloud_cover',\n",
    "                  'apparent_temperature', 'dew_point', 'wind_speed',\n",
    "                  'wind_gust', 'visibility', 'precip_intensity',\n",
    "                  'Day', 'Hour', 'Month', 'Weekday'\n",
    "                 ]"
   ]
  },
  {
   "cell_type": "code",
   "execution_count": 24,
   "metadata": {
    "ExecuteTime": {
     "end_time": "2020-07-28T04:17:23.089636Z",
     "start_time": "2020-07-28T04:17:15.087996Z"
    },
    "scrolled": true
   },
   "outputs": [],
   "source": [
    "batcher_train = bt.BatcherTrain(df_train,\n",
    "                df_chunk_train,\n",
    "                40,\n",
    "                36,\n",
    "                col_dt='Datetime', # Datetime column name\n",
    "                 col_val='Moisture', # ts column name to be predicted\n",
    "                 col_gr = 'ChunkId',\n",
    "                 col_feats_prev = col_feats_prev, # prev-feature column names\n",
    "                 col_feats_current = col_feats_curr, # current feature column names\n",
    "                 minlen=25, # chunk lengths are randomly sampled, minimum chunk length\n",
    "                 maxlen=240        \n",
    "               )"
   ]
  },
  {
   "cell_type": "markdown",
   "metadata": {},
   "source": [
    "Save batcher without data for passing parameters to tester at v07.test01.ipynb"
   ]
  },
  {
   "cell_type": "code",
   "execution_count": 25,
   "metadata": {},
   "outputs": [],
   "source": [
    "df_ts = batcher_train.df_ts\n",
    "batcher_train.df_ts = None\n",
    "batcher_train.save('../data/batcher_train_lite_model03.pkl')\n",
    "batcher_train.df_ts = df_ts"
   ]
  },
  {
   "cell_type": "markdown",
   "metadata": {},
   "source": [
    "#### Create LSTM model"
   ]
  },
  {
   "cell_type": "code",
   "execution_count": 14,
   "metadata": {
    "ExecuteTime": {
     "end_time": "2020-07-28T04:17:34.449296Z",
     "start_time": "2020-07-28T04:17:34.445583Z"
    }
   },
   "outputs": [],
   "source": [
    "from lib import lstm"
   ]
  },
  {
   "cell_type": "code",
   "execution_count": 44,
   "metadata": {
    "ExecuteTime": {
     "end_time": "2020-07-28T02:06:21.500073Z",
     "start_time": "2020-07-28T02:06:21.412037Z"
    }
   },
   "outputs": [],
   "source": [
    "lstm = reload(lstm)"
   ]
  },
  {
   "cell_type": "code",
   "execution_count": 45,
   "metadata": {
    "ExecuteTime": {
     "end_time": "2020-07-28T02:06:26.916386Z",
     "start_time": "2020-07-28T02:06:26.891657Z"
    }
   },
   "outputs": [],
   "source": [
    "model = lstm.LSTM(\n",
    "    batcher_train.n_feat,\n",
    "    200,\n",
    "    hiddens_before=[800],\n",
    "    hiddens_after=[800, batcher_train.out_time_len],\n",
    "    lr_init=0.001,\n",
    "    use_gpu=True\n",
    ")"
   ]
  },
  {
   "cell_type": "code",
   "execution_count": 46,
   "metadata": {
    "ExecuteTime": {
     "end_time": "2020-07-28T02:06:27.234545Z",
     "start_time": "2020-07-28T02:06:27.229506Z"
    }
   },
   "outputs": [
    {
     "name": "stderr",
     "output_type": "stream",
     "text": [
      "WARNING:root:Already on CPU, moving anyway!\n"
     ]
    }
   ],
   "source": [
    "model.move_cpu()"
   ]
  },
  {
   "cell_type": "markdown",
   "metadata": {},
   "source": [
    "Train the model"
   ]
  },
  {
   "cell_type": "code",
   "execution_count": null,
   "metadata": {
    "ExecuteTime": {
     "end_time": "2020-07-28T02:51:53.938549Z",
     "start_time": "2020-07-28T02:51:40.125507Z"
    },
    "scrolled": true
   },
   "outputs": [],
   "source": [
    "model.train_model(batcher_train, max_epochs=200, batchsize=150, save_every=None, save_folder=None)"
   ]
  },
  {
   "cell_type": "code",
   "execution_count": 15,
   "metadata": {
    "ExecuteTime": {
     "end_time": "2020-07-28T04:17:37.916419Z",
     "start_time": "2020-07-28T04:17:37.909581Z"
    }
   },
   "outputs": [],
   "source": [
    "import torch"
   ]
  },
  {
   "cell_type": "code",
   "execution_count": null,
   "metadata": {},
   "outputs": [],
   "source": [
    "torch.save(model, '../data/model03_epoch199.pkl')"
   ]
  },
  {
   "cell_type": "code",
   "execution_count": null,
   "metadata": {},
   "outputs": [],
   "source": []
  },
  {
   "cell_type": "code",
   "execution_count": null,
   "metadata": {},
   "outputs": [],
   "source": []
  },
  {
   "cell_type": "code",
   "execution_count": null,
   "metadata": {},
   "outputs": [],
   "source": []
  }
 ],
 "metadata": {
  "kernelspec": {
   "display_name": "Python 3",
   "language": "python",
   "name": "python3"
  },
  "language_info": {
   "codemirror_mode": {
    "name": "ipython",
    "version": 3
   },
   "file_extension": ".py",
   "mimetype": "text/x-python",
   "name": "python",
   "nbconvert_exporter": "python",
   "pygments_lexer": "ipython3",
   "version": "3.8.5"
  }
 },
 "nbformat": 4,
 "nbformat_minor": 4
}
