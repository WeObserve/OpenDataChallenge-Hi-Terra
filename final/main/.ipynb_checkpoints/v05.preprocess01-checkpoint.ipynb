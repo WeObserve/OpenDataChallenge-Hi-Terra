{
 "cells": [
  {
   "cell_type": "code",
   "execution_count": 1,
   "metadata": {},
   "outputs": [],
   "source": [
    "import pandas as pd\n",
    "import numpy as np\n",
    "import datetime as dt\n",
    "import matplotlib.pyplot as plt\n",
    "import pickle\n",
    "import sys\n",
    "from importlib import reload\n",
    "import logging\n",
    "\n",
    "%matplotlib inline"
   ]
  },
  {
   "cell_type": "code",
   "execution_count": 2,
   "metadata": {},
   "outputs": [],
   "source": [
    "sys.path.append('..')"
   ]
  },
  {
   "cell_type": "code",
   "execution_count": 3,
   "metadata": {},
   "outputs": [],
   "source": [
    "df_all = pd.read_pickle('./data/ts_data_pp01_chunked_moist_weather.pkl')\n",
    "df_chunk = pd.read_pickle('./data/chunk_data_pp01.pkl')"
   ]
  },
  {
   "cell_type": "code",
   "execution_count": 4,
   "metadata": {},
   "outputs": [
    {
     "data": {
      "text/plain": [
       "(2344595, 18)"
      ]
     },
     "execution_count": 4,
     "metadata": {},
     "output_type": "execute_result"
    }
   ],
   "source": [
    "df_all.shape"
   ]
  },
  {
   "cell_type": "code",
   "execution_count": 5,
   "metadata": {},
   "outputs": [
    {
     "data": {
      "text/html": [
       "<div>\n",
       "<style scoped>\n",
       "    .dataframe tbody tr th:only-of-type {\n",
       "        vertical-align: middle;\n",
       "    }\n",
       "\n",
       "    .dataframe tbody tr th {\n",
       "        vertical-align: top;\n",
       "    }\n",
       "\n",
       "    .dataframe thead th {\n",
       "        text-align: right;\n",
       "    }\n",
       "</style>\n",
       "<table border=\"1\" class=\"dataframe\">\n",
       "  <thead>\n",
       "    <tr style=\"text-align: right;\">\n",
       "      <th></th>\n",
       "      <th>LocId</th>\n",
       "      <th>Datetime</th>\n",
       "      <th>Moisture</th>\n",
       "      <th>Latitude</th>\n",
       "      <th>Longitude</th>\n",
       "      <th>ChunkBegin</th>\n",
       "      <th>ChunkId</th>\n",
       "      <th>precip_intensity</th>\n",
       "      <th>precip_probability</th>\n",
       "      <th>precip_type</th>\n",
       "      <th>temperature</th>\n",
       "      <th>apparent_temperature</th>\n",
       "      <th>dew_point</th>\n",
       "      <th>humidity</th>\n",
       "      <th>wind_speed</th>\n",
       "      <th>wind_gust</th>\n",
       "      <th>cloud_cover</th>\n",
       "      <th>visibility</th>\n",
       "    </tr>\n",
       "  </thead>\n",
       "  <tbody>\n",
       "    <tr>\n",
       "      <th>0</th>\n",
       "      <td>6</td>\n",
       "      <td>2018-10-12 14:00:00</td>\n",
       "      <td>7.5800</td>\n",
       "      <td>47.594</td>\n",
       "      <td>19.362</td>\n",
       "      <td>True</td>\n",
       "      <td>0</td>\n",
       "      <td>NaN</td>\n",
       "      <td>NaN</td>\n",
       "      <td>None</td>\n",
       "      <td>21.82</td>\n",
       "      <td>21.82</td>\n",
       "      <td>9.00</td>\n",
       "      <td>0.44</td>\n",
       "      <td>NaN</td>\n",
       "      <td>NaN</td>\n",
       "      <td>NaN</td>\n",
       "      <td>10.003</td>\n",
       "    </tr>\n",
       "    <tr>\n",
       "      <th>1</th>\n",
       "      <td>6</td>\n",
       "      <td>2018-10-12 15:00:00</td>\n",
       "      <td>7.6350</td>\n",
       "      <td>47.594</td>\n",
       "      <td>19.362</td>\n",
       "      <td>False</td>\n",
       "      <td>0</td>\n",
       "      <td>NaN</td>\n",
       "      <td>NaN</td>\n",
       "      <td>None</td>\n",
       "      <td>21.82</td>\n",
       "      <td>21.82</td>\n",
       "      <td>10.99</td>\n",
       "      <td>0.50</td>\n",
       "      <td>2.09</td>\n",
       "      <td>NaN</td>\n",
       "      <td>NaN</td>\n",
       "      <td>10.003</td>\n",
       "    </tr>\n",
       "    <tr>\n",
       "      <th>2</th>\n",
       "      <td>6</td>\n",
       "      <td>2018-10-12 16:00:00</td>\n",
       "      <td>7.4450</td>\n",
       "      <td>47.594</td>\n",
       "      <td>19.362</td>\n",
       "      <td>False</td>\n",
       "      <td>0</td>\n",
       "      <td>NaN</td>\n",
       "      <td>NaN</td>\n",
       "      <td>None</td>\n",
       "      <td>22.81</td>\n",
       "      <td>22.81</td>\n",
       "      <td>12.00</td>\n",
       "      <td>0.51</td>\n",
       "      <td>2.09</td>\n",
       "      <td>NaN</td>\n",
       "      <td>NaN</td>\n",
       "      <td>10.003</td>\n",
       "    </tr>\n",
       "    <tr>\n",
       "      <th>3</th>\n",
       "      <td>6</td>\n",
       "      <td>2018-10-12 17:00:00</td>\n",
       "      <td>7.4475</td>\n",
       "      <td>47.594</td>\n",
       "      <td>19.362</td>\n",
       "      <td>False</td>\n",
       "      <td>0</td>\n",
       "      <td>NaN</td>\n",
       "      <td>NaN</td>\n",
       "      <td>None</td>\n",
       "      <td>20.82</td>\n",
       "      <td>20.82</td>\n",
       "      <td>12.00</td>\n",
       "      <td>0.57</td>\n",
       "      <td>NaN</td>\n",
       "      <td>NaN</td>\n",
       "      <td>NaN</td>\n",
       "      <td>10.003</td>\n",
       "    </tr>\n",
       "    <tr>\n",
       "      <th>4</th>\n",
       "      <td>6</td>\n",
       "      <td>2018-10-12 18:00:00</td>\n",
       "      <td>7.3850</td>\n",
       "      <td>47.594</td>\n",
       "      <td>19.362</td>\n",
       "      <td>False</td>\n",
       "      <td>0</td>\n",
       "      <td>NaN</td>\n",
       "      <td>NaN</td>\n",
       "      <td>None</td>\n",
       "      <td>17.82</td>\n",
       "      <td>17.82</td>\n",
       "      <td>10.99</td>\n",
       "      <td>0.64</td>\n",
       "      <td>NaN</td>\n",
       "      <td>NaN</td>\n",
       "      <td>NaN</td>\n",
       "      <td>10.003</td>\n",
       "    </tr>\n",
       "  </tbody>\n",
       "</table>\n",
       "</div>"
      ],
      "text/plain": [
       "   LocId            Datetime  Moisture  Latitude  Longitude  ChunkBegin  \\\n",
       "0      6 2018-10-12 14:00:00    7.5800    47.594     19.362        True   \n",
       "1      6 2018-10-12 15:00:00    7.6350    47.594     19.362       False   \n",
       "2      6 2018-10-12 16:00:00    7.4450    47.594     19.362       False   \n",
       "3      6 2018-10-12 17:00:00    7.4475    47.594     19.362       False   \n",
       "4      6 2018-10-12 18:00:00    7.3850    47.594     19.362       False   \n",
       "\n",
       "   ChunkId  precip_intensity  precip_probability precip_type  temperature  \\\n",
       "0        0               NaN                 NaN        None        21.82   \n",
       "1        0               NaN                 NaN        None        21.82   \n",
       "2        0               NaN                 NaN        None        22.81   \n",
       "3        0               NaN                 NaN        None        20.82   \n",
       "4        0               NaN                 NaN        None        17.82   \n",
       "\n",
       "   apparent_temperature  dew_point  humidity  wind_speed wind_gust  \\\n",
       "0                 21.82       9.00      0.44         NaN       NaN   \n",
       "1                 21.82      10.99      0.50        2.09       NaN   \n",
       "2                 22.81      12.00      0.51        2.09       NaN   \n",
       "3                 20.82      12.00      0.57         NaN       NaN   \n",
       "4                 17.82      10.99      0.64         NaN       NaN   \n",
       "\n",
       "   cloud_cover visibility  \n",
       "0          NaN     10.003  \n",
       "1          NaN     10.003  \n",
       "2          NaN     10.003  \n",
       "3          NaN     10.003  \n",
       "4          NaN     10.003  "
      ]
     },
     "execution_count": 5,
     "metadata": {},
     "output_type": "execute_result"
    }
   ],
   "source": [
    "df_all.head()"
   ]
  },
  {
   "cell_type": "code",
   "execution_count": 6,
   "metadata": {},
   "outputs": [],
   "source": [
    "ds_chuncounts = df_all.groupby('ChunkId').ChunkId.count()"
   ]
  },
  {
   "cell_type": "code",
   "execution_count": 7,
   "metadata": {},
   "outputs": [
    {
     "data": {
      "text/html": [
       "<div>\n",
       "<style scoped>\n",
       "    .dataframe tbody tr th:only-of-type {\n",
       "        vertical-align: middle;\n",
       "    }\n",
       "\n",
       "    .dataframe tbody tr th {\n",
       "        vertical-align: top;\n",
       "    }\n",
       "\n",
       "    .dataframe thead th {\n",
       "        text-align: right;\n",
       "    }\n",
       "</style>\n",
       "<table border=\"1\" class=\"dataframe\">\n",
       "  <thead>\n",
       "    <tr style=\"text-align: right;\">\n",
       "      <th></th>\n",
       "      <th>ChunkId</th>\n",
       "      <th>Latitude</th>\n",
       "      <th>Longitude</th>\n",
       "      <th>LocId</th>\n",
       "    </tr>\n",
       "  </thead>\n",
       "  <tbody>\n",
       "    <tr>\n",
       "      <th>0</th>\n",
       "      <td>0</td>\n",
       "      <td>47.594</td>\n",
       "      <td>19.362</td>\n",
       "      <td>6</td>\n",
       "    </tr>\n",
       "    <tr>\n",
       "      <th>1</th>\n",
       "      <td>1</td>\n",
       "      <td>47.594</td>\n",
       "      <td>19.362</td>\n",
       "      <td>6</td>\n",
       "    </tr>\n",
       "    <tr>\n",
       "      <th>2</th>\n",
       "      <td>2</td>\n",
       "      <td>47.594</td>\n",
       "      <td>19.362</td>\n",
       "      <td>6</td>\n",
       "    </tr>\n",
       "    <tr>\n",
       "      <th>3</th>\n",
       "      <td>3</td>\n",
       "      <td>47.594</td>\n",
       "      <td>19.362</td>\n",
       "      <td>6</td>\n",
       "    </tr>\n",
       "    <tr>\n",
       "      <th>4</th>\n",
       "      <td>4</td>\n",
       "      <td>47.594</td>\n",
       "      <td>19.362</td>\n",
       "      <td>6</td>\n",
       "    </tr>\n",
       "    <tr>\n",
       "      <th>...</th>\n",
       "      <td>...</td>\n",
       "      <td>...</td>\n",
       "      <td>...</td>\n",
       "      <td>...</td>\n",
       "    </tr>\n",
       "    <tr>\n",
       "      <th>5226</th>\n",
       "      <td>5234</td>\n",
       "      <td>27.776</td>\n",
       "      <td>-18.006</td>\n",
       "      <td>2071</td>\n",
       "    </tr>\n",
       "    <tr>\n",
       "      <th>5227</th>\n",
       "      <td>5235</td>\n",
       "      <td>50.891</td>\n",
       "      <td>15.558</td>\n",
       "      <td>2073</td>\n",
       "    </tr>\n",
       "    <tr>\n",
       "      <th>5228</th>\n",
       "      <td>5236</td>\n",
       "      <td>50.890</td>\n",
       "      <td>15.555</td>\n",
       "      <td>2074</td>\n",
       "    </tr>\n",
       "    <tr>\n",
       "      <th>5229</th>\n",
       "      <td>5237</td>\n",
       "      <td>50.890</td>\n",
       "      <td>15.555</td>\n",
       "      <td>2074</td>\n",
       "    </tr>\n",
       "    <tr>\n",
       "      <th>5230</th>\n",
       "      <td>5238</td>\n",
       "      <td>53.772</td>\n",
       "      <td>-1.911</td>\n",
       "      <td>2075</td>\n",
       "    </tr>\n",
       "  </tbody>\n",
       "</table>\n",
       "<p>5231 rows × 4 columns</p>\n",
       "</div>"
      ],
      "text/plain": [
       "      ChunkId  Latitude  Longitude  LocId\n",
       "0           0    47.594     19.362      6\n",
       "1           1    47.594     19.362      6\n",
       "2           2    47.594     19.362      6\n",
       "3           3    47.594     19.362      6\n",
       "4           4    47.594     19.362      6\n",
       "...       ...       ...        ...    ...\n",
       "5226     5234    27.776    -18.006   2071\n",
       "5227     5235    50.891     15.558   2073\n",
       "5228     5236    50.890     15.555   2074\n",
       "5229     5237    50.890     15.555   2074\n",
       "5230     5238    53.772     -1.911   2075\n",
       "\n",
       "[5231 rows x 4 columns]"
      ]
     },
     "execution_count": 7,
     "metadata": {},
     "output_type": "execute_result"
    }
   ],
   "source": [
    "df_chunk"
   ]
  },
  {
   "cell_type": "code",
   "execution_count": 8,
   "metadata": {},
   "outputs": [],
   "source": [
    "df_all = df_all[df_all.ChunkId.isin(list(ds_chuncounts[ds_chuncounts > 100].index))]"
   ]
  },
  {
   "cell_type": "code",
   "execution_count": 9,
   "metadata": {},
   "outputs": [
    {
     "data": {
      "text/html": [
       "<div>\n",
       "<style scoped>\n",
       "    .dataframe tbody tr th:only-of-type {\n",
       "        vertical-align: middle;\n",
       "    }\n",
       "\n",
       "    .dataframe tbody tr th {\n",
       "        vertical-align: top;\n",
       "    }\n",
       "\n",
       "    .dataframe thead th {\n",
       "        text-align: right;\n",
       "    }\n",
       "</style>\n",
       "<table border=\"1\" class=\"dataframe\">\n",
       "  <thead>\n",
       "    <tr style=\"text-align: right;\">\n",
       "      <th></th>\n",
       "      <th>LocId</th>\n",
       "      <th>Datetime</th>\n",
       "      <th>Moisture</th>\n",
       "      <th>Latitude</th>\n",
       "      <th>Longitude</th>\n",
       "      <th>ChunkBegin</th>\n",
       "      <th>ChunkId</th>\n",
       "      <th>precip_intensity</th>\n",
       "      <th>precip_probability</th>\n",
       "      <th>precip_type</th>\n",
       "      <th>temperature</th>\n",
       "      <th>apparent_temperature</th>\n",
       "      <th>dew_point</th>\n",
       "      <th>humidity</th>\n",
       "      <th>wind_speed</th>\n",
       "      <th>wind_gust</th>\n",
       "      <th>cloud_cover</th>\n",
       "      <th>visibility</th>\n",
       "    </tr>\n",
       "  </thead>\n",
       "  <tbody>\n",
       "    <tr>\n",
       "      <th>0</th>\n",
       "      <td>6</td>\n",
       "      <td>2018-10-12 14:00:00</td>\n",
       "      <td>7.580000</td>\n",
       "      <td>47.594</td>\n",
       "      <td>19.362</td>\n",
       "      <td>True</td>\n",
       "      <td>0</td>\n",
       "      <td>NaN</td>\n",
       "      <td>NaN</td>\n",
       "      <td>None</td>\n",
       "      <td>21.82</td>\n",
       "      <td>21.82</td>\n",
       "      <td>9.00</td>\n",
       "      <td>0.44</td>\n",
       "      <td>NaN</td>\n",
       "      <td>NaN</td>\n",
       "      <td>NaN</td>\n",
       "      <td>10.003</td>\n",
       "    </tr>\n",
       "    <tr>\n",
       "      <th>1</th>\n",
       "      <td>6</td>\n",
       "      <td>2018-10-12 15:00:00</td>\n",
       "      <td>7.635000</td>\n",
       "      <td>47.594</td>\n",
       "      <td>19.362</td>\n",
       "      <td>False</td>\n",
       "      <td>0</td>\n",
       "      <td>NaN</td>\n",
       "      <td>NaN</td>\n",
       "      <td>None</td>\n",
       "      <td>21.82</td>\n",
       "      <td>21.82</td>\n",
       "      <td>10.99</td>\n",
       "      <td>0.50</td>\n",
       "      <td>2.09</td>\n",
       "      <td>NaN</td>\n",
       "      <td>NaN</td>\n",
       "      <td>10.003</td>\n",
       "    </tr>\n",
       "    <tr>\n",
       "      <th>2</th>\n",
       "      <td>6</td>\n",
       "      <td>2018-10-12 16:00:00</td>\n",
       "      <td>7.445000</td>\n",
       "      <td>47.594</td>\n",
       "      <td>19.362</td>\n",
       "      <td>False</td>\n",
       "      <td>0</td>\n",
       "      <td>NaN</td>\n",
       "      <td>NaN</td>\n",
       "      <td>None</td>\n",
       "      <td>22.81</td>\n",
       "      <td>22.81</td>\n",
       "      <td>12.00</td>\n",
       "      <td>0.51</td>\n",
       "      <td>2.09</td>\n",
       "      <td>NaN</td>\n",
       "      <td>NaN</td>\n",
       "      <td>10.003</td>\n",
       "    </tr>\n",
       "    <tr>\n",
       "      <th>3</th>\n",
       "      <td>6</td>\n",
       "      <td>2018-10-12 17:00:00</td>\n",
       "      <td>7.447500</td>\n",
       "      <td>47.594</td>\n",
       "      <td>19.362</td>\n",
       "      <td>False</td>\n",
       "      <td>0</td>\n",
       "      <td>NaN</td>\n",
       "      <td>NaN</td>\n",
       "      <td>None</td>\n",
       "      <td>20.82</td>\n",
       "      <td>20.82</td>\n",
       "      <td>12.00</td>\n",
       "      <td>0.57</td>\n",
       "      <td>NaN</td>\n",
       "      <td>NaN</td>\n",
       "      <td>NaN</td>\n",
       "      <td>10.003</td>\n",
       "    </tr>\n",
       "    <tr>\n",
       "      <th>4</th>\n",
       "      <td>6</td>\n",
       "      <td>2018-10-12 18:00:00</td>\n",
       "      <td>7.385000</td>\n",
       "      <td>47.594</td>\n",
       "      <td>19.362</td>\n",
       "      <td>False</td>\n",
       "      <td>0</td>\n",
       "      <td>NaN</td>\n",
       "      <td>NaN</td>\n",
       "      <td>None</td>\n",
       "      <td>17.82</td>\n",
       "      <td>17.82</td>\n",
       "      <td>10.99</td>\n",
       "      <td>0.64</td>\n",
       "      <td>NaN</td>\n",
       "      <td>NaN</td>\n",
       "      <td>NaN</td>\n",
       "      <td>10.003</td>\n",
       "    </tr>\n",
       "    <tr>\n",
       "      <th>...</th>\n",
       "      <td>...</td>\n",
       "      <td>...</td>\n",
       "      <td>...</td>\n",
       "      <td>...</td>\n",
       "      <td>...</td>\n",
       "      <td>...</td>\n",
       "      <td>...</td>\n",
       "      <td>...</td>\n",
       "      <td>...</td>\n",
       "      <td>...</td>\n",
       "      <td>...</td>\n",
       "      <td>...</td>\n",
       "      <td>...</td>\n",
       "      <td>...</td>\n",
       "      <td>...</td>\n",
       "      <td>...</td>\n",
       "      <td>...</td>\n",
       "      <td>...</td>\n",
       "    </tr>\n",
       "    <tr>\n",
       "      <th>2348075</th>\n",
       "      <td>2075</td>\n",
       "      <td>2019-10-27 11:00:00</td>\n",
       "      <td>33.165000</td>\n",
       "      <td>53.772</td>\n",
       "      <td>-1.911</td>\n",
       "      <td>False</td>\n",
       "      <td>5238</td>\n",
       "      <td>NaN</td>\n",
       "      <td>NaN</td>\n",
       "      <td>NaN</td>\n",
       "      <td>NaN</td>\n",
       "      <td>NaN</td>\n",
       "      <td>NaN</td>\n",
       "      <td>NaN</td>\n",
       "      <td>NaN</td>\n",
       "      <td>NaN</td>\n",
       "      <td>NaN</td>\n",
       "      <td>NaN</td>\n",
       "    </tr>\n",
       "    <tr>\n",
       "      <th>2348076</th>\n",
       "      <td>2075</td>\n",
       "      <td>2019-10-27 12:00:00</td>\n",
       "      <td>33.227500</td>\n",
       "      <td>53.772</td>\n",
       "      <td>-1.911</td>\n",
       "      <td>False</td>\n",
       "      <td>5238</td>\n",
       "      <td>NaN</td>\n",
       "      <td>NaN</td>\n",
       "      <td>NaN</td>\n",
       "      <td>NaN</td>\n",
       "      <td>NaN</td>\n",
       "      <td>NaN</td>\n",
       "      <td>NaN</td>\n",
       "      <td>NaN</td>\n",
       "      <td>NaN</td>\n",
       "      <td>NaN</td>\n",
       "      <td>NaN</td>\n",
       "    </tr>\n",
       "    <tr>\n",
       "      <th>2348077</th>\n",
       "      <td>2075</td>\n",
       "      <td>2019-10-27 13:00:00</td>\n",
       "      <td>32.910000</td>\n",
       "      <td>53.772</td>\n",
       "      <td>-1.911</td>\n",
       "      <td>False</td>\n",
       "      <td>5238</td>\n",
       "      <td>NaN</td>\n",
       "      <td>NaN</td>\n",
       "      <td>NaN</td>\n",
       "      <td>NaN</td>\n",
       "      <td>NaN</td>\n",
       "      <td>NaN</td>\n",
       "      <td>NaN</td>\n",
       "      <td>NaN</td>\n",
       "      <td>NaN</td>\n",
       "      <td>NaN</td>\n",
       "      <td>NaN</td>\n",
       "    </tr>\n",
       "    <tr>\n",
       "      <th>2348078</th>\n",
       "      <td>2075</td>\n",
       "      <td>2019-10-27 14:00:00</td>\n",
       "      <td>32.767498</td>\n",
       "      <td>53.772</td>\n",
       "      <td>-1.911</td>\n",
       "      <td>False</td>\n",
       "      <td>5238</td>\n",
       "      <td>NaN</td>\n",
       "      <td>NaN</td>\n",
       "      <td>NaN</td>\n",
       "      <td>NaN</td>\n",
       "      <td>NaN</td>\n",
       "      <td>NaN</td>\n",
       "      <td>NaN</td>\n",
       "      <td>NaN</td>\n",
       "      <td>NaN</td>\n",
       "      <td>NaN</td>\n",
       "      <td>NaN</td>\n",
       "    </tr>\n",
       "    <tr>\n",
       "      <th>2348079</th>\n",
       "      <td>2075</td>\n",
       "      <td>2019-10-27 15:00:00</td>\n",
       "      <td>33.110000</td>\n",
       "      <td>53.772</td>\n",
       "      <td>-1.911</td>\n",
       "      <td>False</td>\n",
       "      <td>5238</td>\n",
       "      <td>NaN</td>\n",
       "      <td>NaN</td>\n",
       "      <td>NaN</td>\n",
       "      <td>NaN</td>\n",
       "      <td>NaN</td>\n",
       "      <td>NaN</td>\n",
       "      <td>NaN</td>\n",
       "      <td>NaN</td>\n",
       "      <td>NaN</td>\n",
       "      <td>NaN</td>\n",
       "      <td>NaN</td>\n",
       "    </tr>\n",
       "  </tbody>\n",
       "</table>\n",
       "<p>2328906 rows × 18 columns</p>\n",
       "</div>"
      ],
      "text/plain": [
       "         LocId            Datetime   Moisture  Latitude  Longitude  \\\n",
       "0            6 2018-10-12 14:00:00   7.580000    47.594     19.362   \n",
       "1            6 2018-10-12 15:00:00   7.635000    47.594     19.362   \n",
       "2            6 2018-10-12 16:00:00   7.445000    47.594     19.362   \n",
       "3            6 2018-10-12 17:00:00   7.447500    47.594     19.362   \n",
       "4            6 2018-10-12 18:00:00   7.385000    47.594     19.362   \n",
       "...        ...                 ...        ...       ...        ...   \n",
       "2348075   2075 2019-10-27 11:00:00  33.165000    53.772     -1.911   \n",
       "2348076   2075 2019-10-27 12:00:00  33.227500    53.772     -1.911   \n",
       "2348077   2075 2019-10-27 13:00:00  32.910000    53.772     -1.911   \n",
       "2348078   2075 2019-10-27 14:00:00  32.767498    53.772     -1.911   \n",
       "2348079   2075 2019-10-27 15:00:00  33.110000    53.772     -1.911   \n",
       "\n",
       "         ChunkBegin  ChunkId  precip_intensity  precip_probability  \\\n",
       "0              True        0               NaN                 NaN   \n",
       "1             False        0               NaN                 NaN   \n",
       "2             False        0               NaN                 NaN   \n",
       "3             False        0               NaN                 NaN   \n",
       "4             False        0               NaN                 NaN   \n",
       "...             ...      ...               ...                 ...   \n",
       "2348075       False     5238               NaN                 NaN   \n",
       "2348076       False     5238               NaN                 NaN   \n",
       "2348077       False     5238               NaN                 NaN   \n",
       "2348078       False     5238               NaN                 NaN   \n",
       "2348079       False     5238               NaN                 NaN   \n",
       "\n",
       "        precip_type  temperature  apparent_temperature  dew_point  humidity  \\\n",
       "0              None        21.82                 21.82       9.00      0.44   \n",
       "1              None        21.82                 21.82      10.99      0.50   \n",
       "2              None        22.81                 22.81      12.00      0.51   \n",
       "3              None        20.82                 20.82      12.00      0.57   \n",
       "4              None        17.82                 17.82      10.99      0.64   \n",
       "...             ...          ...                   ...        ...       ...   \n",
       "2348075         NaN          NaN                   NaN        NaN       NaN   \n",
       "2348076         NaN          NaN                   NaN        NaN       NaN   \n",
       "2348077         NaN          NaN                   NaN        NaN       NaN   \n",
       "2348078         NaN          NaN                   NaN        NaN       NaN   \n",
       "2348079         NaN          NaN                   NaN        NaN       NaN   \n",
       "\n",
       "         wind_speed wind_gust  cloud_cover visibility  \n",
       "0               NaN       NaN          NaN     10.003  \n",
       "1              2.09       NaN          NaN     10.003  \n",
       "2              2.09       NaN          NaN     10.003  \n",
       "3               NaN       NaN          NaN     10.003  \n",
       "4               NaN       NaN          NaN     10.003  \n",
       "...             ...       ...          ...        ...  \n",
       "2348075         NaN       NaN          NaN        NaN  \n",
       "2348076         NaN       NaN          NaN        NaN  \n",
       "2348077         NaN       NaN          NaN        NaN  \n",
       "2348078         NaN       NaN          NaN        NaN  \n",
       "2348079         NaN       NaN          NaN        NaN  \n",
       "\n",
       "[2328906 rows x 18 columns]"
      ]
     },
     "execution_count": 9,
     "metadata": {},
     "output_type": "execute_result"
    }
   ],
   "source": [
    "df_all"
   ]
  },
  {
   "cell_type": "code",
   "execution_count": 10,
   "metadata": {},
   "outputs": [],
   "source": [
    "df_chunk = df_all.groupby('ChunkId').agg({'Latitude': 'first', 'Longitude': 'first', 'LocId': 'first'}).reset_index()"
   ]
  },
  {
   "cell_type": "code",
   "execution_count": 11,
   "metadata": {},
   "outputs": [
    {
     "data": {
      "text/plain": [
       "((2328906, 18), (4904, 4))"
      ]
     },
     "execution_count": 11,
     "metadata": {},
     "output_type": "execute_result"
    }
   ],
   "source": [
    "df_all.shape, df_chunk.shape"
   ]
  },
  {
   "cell_type": "code",
   "execution_count": 12,
   "metadata": {},
   "outputs": [
    {
     "data": {
      "text/plain": [
       "(1355, 4904)"
      ]
     },
     "execution_count": 12,
     "metadata": {},
     "output_type": "execute_result"
    }
   ],
   "source": [
    "df_all.LocId.nunique(), df_all.ChunkId.nunique()"
   ]
  },
  {
   "cell_type": "code",
   "execution_count": 13,
   "metadata": {},
   "outputs": [],
   "source": [
    "df_all['IsTmpNull'] = df_all.temperature.isnull()"
   ]
  },
  {
   "cell_type": "code",
   "execution_count": 14,
   "metadata": {},
   "outputs": [],
   "source": [
    "ds_chunks_full = df_all.groupby('ChunkId').IsTmpNull.sum() == 0\n",
    "chunks_full = list(ds_chunks_full[ds_chunks_full == True].index)\n",
    "df_all = df_all[df_all.ChunkId.isin(chunks_full)]"
   ]
  },
  {
   "cell_type": "code",
   "execution_count": 15,
   "metadata": {},
   "outputs": [],
   "source": [
    "df_chunk = df_all.groupby('ChunkId').agg({'Latitude': 'first', 'Longitude': 'first', 'LocId': 'first'}).reset_index()"
   ]
  },
  {
   "cell_type": "code",
   "execution_count": 16,
   "metadata": {},
   "outputs": [
    {
     "data": {
      "text/plain": [
       "((1781155, 19), (3967, 4))"
      ]
     },
     "execution_count": 16,
     "metadata": {},
     "output_type": "execute_result"
    }
   ],
   "source": [
    "df_all.shape, df_chunk.shape"
   ]
  },
  {
   "cell_type": "code",
   "execution_count": 17,
   "metadata": {},
   "outputs": [
    {
     "data": {
      "text/plain": [
       "(1274, 3967)"
      ]
     },
     "execution_count": 17,
     "metadata": {},
     "output_type": "execute_result"
    }
   ],
   "source": [
    "df_all.LocId.nunique(), df_all.ChunkId.nunique()"
   ]
  },
  {
   "cell_type": "code",
   "execution_count": 18,
   "metadata": {},
   "outputs": [],
   "source": [
    "df_chunk_sub = df_chunk.sample(50).copy()\n",
    "df_all_sub = df_all[df_all.ChunkId.isin(df_chunk_sub.ChunkId.values)].copy()"
   ]
  },
  {
   "cell_type": "code",
   "execution_count": 19,
   "metadata": {},
   "outputs": [
    {
     "data": {
      "text/plain": [
       "LocId                         0\n",
       "Datetime                      0\n",
       "Moisture                      0\n",
       "Latitude                      0\n",
       "Longitude                     0\n",
       "ChunkBegin                    0\n",
       "ChunkId                       0\n",
       "precip_intensity          19433\n",
       "precip_probability        19433\n",
       "precip_type             1060915\n",
       "temperature                   0\n",
       "apparent_temperature          0\n",
       "dew_point                     0\n",
       "humidity                      0\n",
       "wind_speed                  117\n",
       "wind_gust                 27931\n",
       "cloud_cover               20424\n",
       "visibility                39250\n",
       "IsTmpNull                     0\n",
       "dtype: int64"
      ]
     },
     "execution_count": 19,
     "metadata": {},
     "output_type": "execute_result"
    }
   ],
   "source": [
    "df_all.isnull().sum()"
   ]
  },
  {
   "cell_type": "code",
   "execution_count": 20,
   "metadata": {},
   "outputs": [
    {
     "data": {
      "text/plain": [
       "rain    691879\n",
       "snow     28361\n",
       "Name: precip_type, dtype: int64"
      ]
     },
     "execution_count": 20,
     "metadata": {},
     "output_type": "execute_result"
    }
   ],
   "source": [
    "df_all.precip_type.value_counts()"
   ]
  },
  {
   "cell_type": "code",
   "execution_count": 21,
   "metadata": {},
   "outputs": [
    {
     "name": "stderr",
     "output_type": "stream",
     "text": [
      "<ipython-input-21-88c17b10a851>:1: SettingWithCopyWarning: \n",
      "A value is trying to be set on a copy of a slice from a DataFrame.\n",
      "Try using .loc[row_indexer,col_indexer] = value instead\n",
      "\n",
      "See the caveats in the documentation: https://pandas.pydata.org/pandas-docs/stable/user_guide/indexing.html#returning-a-view-versus-a-copy\n",
      "  df_all['Day'] = df_all.Datetime.apply(lambda x: x.day)\n",
      "<ipython-input-21-88c17b10a851>:2: SettingWithCopyWarning: \n",
      "A value is trying to be set on a copy of a slice from a DataFrame.\n",
      "Try using .loc[row_indexer,col_indexer] = value instead\n",
      "\n",
      "See the caveats in the documentation: https://pandas.pydata.org/pandas-docs/stable/user_guide/indexing.html#returning-a-view-versus-a-copy\n",
      "  df_all['Hour'] = df_all.Datetime.apply(lambda x: x.hour)\n",
      "<ipython-input-21-88c17b10a851>:3: SettingWithCopyWarning: \n",
      "A value is trying to be set on a copy of a slice from a DataFrame.\n",
      "Try using .loc[row_indexer,col_indexer] = value instead\n",
      "\n",
      "See the caveats in the documentation: https://pandas.pydata.org/pandas-docs/stable/user_guide/indexing.html#returning-a-view-versus-a-copy\n",
      "  df_all['Month'] = df_all.Datetime.apply(lambda x: x.month)\n",
      "<ipython-input-21-88c17b10a851>:4: SettingWithCopyWarning: \n",
      "A value is trying to be set on a copy of a slice from a DataFrame.\n",
      "Try using .loc[row_indexer,col_indexer] = value instead\n",
      "\n",
      "See the caveats in the documentation: https://pandas.pydata.org/pandas-docs/stable/user_guide/indexing.html#returning-a-view-versus-a-copy\n",
      "  df_all['Weekday'] = df_all.Datetime.apply(lambda x: x.weekday())\n"
     ]
    }
   ],
   "source": [
    "df_all['Day'] = df_all.Datetime.apply(lambda x: x.day)\n",
    "df_all['Hour'] = df_all.Datetime.apply(lambda x: x.hour)\n",
    "df_all['Month'] = df_all.Datetime.apply(lambda x: x.month)\n",
    "df_all['Weekday'] = df_all.Datetime.apply(lambda x: x.weekday())"
   ]
  },
  {
   "cell_type": "code",
   "execution_count": 22,
   "metadata": {},
   "outputs": [],
   "source": [
    "def fill_nulls(colnow):\n",
    "    \n",
    "    print(colnow)\n",
    "    print(df_all[colnow].isnull().sum())\n",
    "    df_all[colnow] = df_all.groupby('ChunkId')[colnow].transform(lambda x: x.fillna(x.mean()))\n",
    "    print(df_all[colnow].isnull().sum())\n",
    "    df_all[colnow] = df_all.groupby('LocId')[colnow].transform(lambda x: x.fillna(x.mean()))\n",
    "    print(df_all[colnow].isnull().sum())\n",
    "    df_all[colnow] = df_all[colnow].fillna(df_all[colnow].mean())\n",
    "    print(df_all[colnow].isnull().sum())"
   ]
  },
  {
   "cell_type": "code",
   "execution_count": 23,
   "metadata": {},
   "outputs": [
    {
     "name": "stdout",
     "output_type": "stream",
     "text": [
      "precip_intensity\n",
      "19433\n"
     ]
    },
    {
     "name": "stderr",
     "output_type": "stream",
     "text": [
      "<ipython-input-22-a7366076e155>:5: SettingWithCopyWarning: \n",
      "A value is trying to be set on a copy of a slice from a DataFrame.\n",
      "Try using .loc[row_indexer,col_indexer] = value instead\n",
      "\n",
      "See the caveats in the documentation: https://pandas.pydata.org/pandas-docs/stable/user_guide/indexing.html#returning-a-view-versus-a-copy\n",
      "  df_all[colnow] = df_all.groupby('ChunkId')[colnow].transform(lambda x: x.fillna(x.mean()))\n"
     ]
    },
    {
     "name": "stdout",
     "output_type": "stream",
     "text": [
      "17525\n",
      "2370\n",
      "0\n"
     ]
    },
    {
     "name": "stderr",
     "output_type": "stream",
     "text": [
      "<ipython-input-22-a7366076e155>:7: SettingWithCopyWarning: \n",
      "A value is trying to be set on a copy of a slice from a DataFrame.\n",
      "Try using .loc[row_indexer,col_indexer] = value instead\n",
      "\n",
      "See the caveats in the documentation: https://pandas.pydata.org/pandas-docs/stable/user_guide/indexing.html#returning-a-view-versus-a-copy\n",
      "  df_all[colnow] = df_all.groupby('LocId')[colnow].transform(lambda x: x.fillna(x.mean()))\n",
      "<ipython-input-22-a7366076e155>:9: SettingWithCopyWarning: \n",
      "A value is trying to be set on a copy of a slice from a DataFrame.\n",
      "Try using .loc[row_indexer,col_indexer] = value instead\n",
      "\n",
      "See the caveats in the documentation: https://pandas.pydata.org/pandas-docs/stable/user_guide/indexing.html#returning-a-view-versus-a-copy\n",
      "  df_all[colnow] = df_all[colnow].fillna(df_all[colnow].mean())\n"
     ]
    }
   ],
   "source": [
    "fill_nulls('precip_intensity')"
   ]
  },
  {
   "cell_type": "code",
   "execution_count": 24,
   "metadata": {},
   "outputs": [
    {
     "name": "stdout",
     "output_type": "stream",
     "text": [
      "precip_probability\n",
      "19433\n"
     ]
    },
    {
     "name": "stderr",
     "output_type": "stream",
     "text": [
      "<ipython-input-22-a7366076e155>:5: SettingWithCopyWarning: \n",
      "A value is trying to be set on a copy of a slice from a DataFrame.\n",
      "Try using .loc[row_indexer,col_indexer] = value instead\n",
      "\n",
      "See the caveats in the documentation: https://pandas.pydata.org/pandas-docs/stable/user_guide/indexing.html#returning-a-view-versus-a-copy\n",
      "  df_all[colnow] = df_all.groupby('ChunkId')[colnow].transform(lambda x: x.fillna(x.mean()))\n"
     ]
    },
    {
     "name": "stdout",
     "output_type": "stream",
     "text": [
      "17525\n",
      "2370\n",
      "0\n"
     ]
    },
    {
     "name": "stderr",
     "output_type": "stream",
     "text": [
      "<ipython-input-22-a7366076e155>:7: SettingWithCopyWarning: \n",
      "A value is trying to be set on a copy of a slice from a DataFrame.\n",
      "Try using .loc[row_indexer,col_indexer] = value instead\n",
      "\n",
      "See the caveats in the documentation: https://pandas.pydata.org/pandas-docs/stable/user_guide/indexing.html#returning-a-view-versus-a-copy\n",
      "  df_all[colnow] = df_all.groupby('LocId')[colnow].transform(lambda x: x.fillna(x.mean()))\n",
      "<ipython-input-22-a7366076e155>:9: SettingWithCopyWarning: \n",
      "A value is trying to be set on a copy of a slice from a DataFrame.\n",
      "Try using .loc[row_indexer,col_indexer] = value instead\n",
      "\n",
      "See the caveats in the documentation: https://pandas.pydata.org/pandas-docs/stable/user_guide/indexing.html#returning-a-view-versus-a-copy\n",
      "  df_all[colnow] = df_all[colnow].fillna(df_all[colnow].mean())\n"
     ]
    }
   ],
   "source": [
    "fill_nulls('precip_probability')"
   ]
  },
  {
   "cell_type": "code",
   "execution_count": 25,
   "metadata": {},
   "outputs": [
    {
     "data": {
      "text/plain": [
       "(3967, 4)"
      ]
     },
     "execution_count": 25,
     "metadata": {},
     "output_type": "execute_result"
    }
   ],
   "source": [
    "df_chunk.shape"
   ]
  },
  {
   "cell_type": "code",
   "execution_count": 26,
   "metadata": {},
   "outputs": [
    {
     "data": {
      "text/plain": [
       "1274"
      ]
     },
     "execution_count": 26,
     "metadata": {},
     "output_type": "execute_result"
    }
   ],
   "source": [
    "df_chunk.LocId.nunique()"
   ]
  },
  {
   "cell_type": "code",
   "execution_count": 27,
   "metadata": {},
   "outputs": [
    {
     "data": {
      "text/plain": [
       "array([ 807,  698,  611, ...,  423, 1173, 1213])"
      ]
     },
     "execution_count": 27,
     "metadata": {},
     "output_type": "execute_result"
    }
   ],
   "source": [
    "n_locs_train = 1000\n",
    "loc_ids = df_chunk.LocId.unique()\n",
    "\n",
    "inds_rand = np.random.permutation(np.arange(len(loc_ids)))\n",
    "inds_rand"
   ]
  },
  {
   "cell_type": "code",
   "execution_count": 28,
   "metadata": {},
   "outputs": [],
   "source": [
    "loc_ids_train = loc_ids[inds_rand[:n_locs_train]]\n"
   ]
  },
  {
   "cell_type": "code",
   "execution_count": 29,
   "metadata": {},
   "outputs": [],
   "source": [
    "n_locs_train = 1000\n",
    "loc_ids = df_chunk.LocId.unique()\n",
    "\n",
    "inds_rand = np.random.permutation(np.arange(len(loc_ids)))\n",
    "loc_ids_train = loc_ids[inds_rand[:n_locs_train]]\n",
    "loc_ids_test = loc_ids[inds_rand[n_locs_train:]]\n",
    "\n",
    "df_chunk_train = df_chunk[df_chunk.LocId.isin(loc_ids_train)]\n",
    "df_chunk_test = df_chunk[df_chunk.LocId.isin(loc_ids_test)]\n",
    "\n",
    "df_train = df_all[df_all.ChunkId.isin(df_chunk_train.ChunkId.values)]\n",
    "df_test = df_all[df_all.ChunkId.isin(df_chunk_test.ChunkId.values)]"
   ]
  },
  {
   "cell_type": "code",
   "execution_count": 30,
   "metadata": {},
   "outputs": [
    {
     "data": {
      "text/plain": [
       "(1000, 274)"
      ]
     },
     "execution_count": 30,
     "metadata": {},
     "output_type": "execute_result"
    }
   ],
   "source": [
    "df_chunk_train.LocId.nunique(), df_chunk_test.LocId.nunique()"
   ]
  },
  {
   "cell_type": "code",
   "execution_count": 31,
   "metadata": {},
   "outputs": [
    {
     "data": {
      "text/plain": [
       "((3166, 4), (801, 4))"
      ]
     },
     "execution_count": 31,
     "metadata": {},
     "output_type": "execute_result"
    }
   ],
   "source": [
    "df_chunk_train.shape, df_chunk_test.shape"
   ]
  },
  {
   "cell_type": "code",
   "execution_count": 32,
   "metadata": {},
   "outputs": [
    {
     "data": {
      "text/plain": [
       "((1403244, 23), (377911, 23))"
      ]
     },
     "execution_count": 32,
     "metadata": {},
     "output_type": "execute_result"
    }
   ],
   "source": [
    "df_train.shape, df_test.shape"
   ]
  },
  {
   "cell_type": "code",
   "execution_count": 33,
   "metadata": {},
   "outputs": [],
   "source": [
    "df_train.to_csv('./data/df_train01.csv')\n",
    "df_test.to_csv('./data/df_test01.csv')\n",
    "\n",
    "df_chunk_train.to_csv('./data/df_chunk_train01.csv')\n",
    "df_chunk_test.to_csv('./data/df_chunk_test01.csv')"
   ]
  },
  {
   "cell_type": "code",
   "execution_count": 34,
   "metadata": {},
   "outputs": [],
   "source": [
    "df_all.to_csv('./data/df_all01.csv')\n",
    "df_chunk.to_csv('./data/df_chunk01.csv')"
   ]
  },
  {
   "cell_type": "code",
   "execution_count": null,
   "metadata": {},
   "outputs": [],
   "source": []
  }
 ],
 "metadata": {
  "kernelspec": {
   "display_name": "Python 3",
   "language": "python",
   "name": "python3"
  },
  "language_info": {
   "codemirror_mode": {
    "name": "ipython",
    "version": 3
   },
   "file_extension": ".py",
   "mimetype": "text/x-python",
   "name": "python",
   "nbconvert_exporter": "python",
   "pygments_lexer": "ipython3",
   "version": "3.8.5"
  }
 },
 "nbformat": 4,
 "nbformat_minor": 4
}
