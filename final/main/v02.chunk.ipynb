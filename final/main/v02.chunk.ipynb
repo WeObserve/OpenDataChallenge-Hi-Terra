{
 "cells": [
  {
   "cell_type": "markdown",
   "metadata": {},
   "source": [
    "## Split data into chunks\n",
    "\n",
    "Each chunk has no missing moisture measurement for any hour\n",
    "\n",
    "#### Input:\n",
    "- ts_data_pp01: preprocessed data from v01.preprocess01.ipynb\n",
    "\n",
    "#### output:\n",
    "- ts_data_pp01_chunked_moist"
   ]
  },
  {
   "cell_type": "code",
   "execution_count": 1,
   "metadata": {
    "ExecuteTime": {
     "end_time": "2020-07-26T22:41:27.145385Z",
     "start_time": "2020-07-26T22:41:25.959493Z"
    }
   },
   "outputs": [],
   "source": [
    "import pandas as pd\n",
    "import numpy as np\n",
    "import matplotlib.pyplot as plt\n",
    "import os\n",
    "import datetime as dt\n",
    "import gc\n",
    "import dask.dataframe as dd\n",
    "\n",
    "%matplotlib inline"
   ]
  },
  {
   "cell_type": "code",
   "execution_count": 2,
   "metadata": {
    "ExecuteTime": {
     "end_time": "2020-07-26T22:41:28.394914Z",
     "start_time": "2020-07-26T22:41:27.147349Z"
    }
   },
   "outputs": [],
   "source": [
    "df_all = pd.read_pickle('../data/ts_data_pp01.pkl')"
   ]
  },
  {
   "cell_type": "code",
   "execution_count": 3,
   "metadata": {
    "ExecuteTime": {
     "end_time": "2020-07-26T22:41:28.419489Z",
     "start_time": "2020-07-26T22:41:28.398297Z"
    }
   },
   "outputs": [
    {
     "data": {
      "text/html": [
       "<div>\n",
       "<style scoped>\n",
       "    .dataframe tbody tr th:only-of-type {\n",
       "        vertical-align: middle;\n",
       "    }\n",
       "\n",
       "    .dataframe tbody tr th {\n",
       "        vertical-align: top;\n",
       "    }\n",
       "\n",
       "    .dataframe thead th {\n",
       "        text-align: right;\n",
       "    }\n",
       "</style>\n",
       "<table border=\"1\" class=\"dataframe\">\n",
       "  <thead>\n",
       "    <tr style=\"text-align: right;\">\n",
       "      <th></th>\n",
       "      <th>LocId</th>\n",
       "      <th>Datetime</th>\n",
       "      <th>Moisture</th>\n",
       "      <th>Temperature</th>\n",
       "      <th>Light</th>\n",
       "      <th>Battery</th>\n",
       "      <th>Latitude</th>\n",
       "      <th>Longitude</th>\n",
       "      <th>ZeroMoist</th>\n",
       "    </tr>\n",
       "  </thead>\n",
       "  <tbody>\n",
       "    <tr>\n",
       "      <th>7490</th>\n",
       "      <td>6</td>\n",
       "      <td>2018-10-12 14:00:00</td>\n",
       "      <td>7.580000</td>\n",
       "      <td>19.719999</td>\n",
       "      <td>5.763333</td>\n",
       "      <td>97.0</td>\n",
       "      <td>47.594</td>\n",
       "      <td>19.362</td>\n",
       "      <td>False</td>\n",
       "    </tr>\n",
       "    <tr>\n",
       "      <th>7491</th>\n",
       "      <td>6</td>\n",
       "      <td>2018-10-12 15:00:00</td>\n",
       "      <td>7.635000</td>\n",
       "      <td>NaN</td>\n",
       "      <td>1.932500</td>\n",
       "      <td>97.0</td>\n",
       "      <td>47.594</td>\n",
       "      <td>19.362</td>\n",
       "      <td>False</td>\n",
       "    </tr>\n",
       "    <tr>\n",
       "      <th>7492</th>\n",
       "      <td>6</td>\n",
       "      <td>2018-10-12 16:00:00</td>\n",
       "      <td>7.445000</td>\n",
       "      <td>NaN</td>\n",
       "      <td>0.100000</td>\n",
       "      <td>97.0</td>\n",
       "      <td>47.594</td>\n",
       "      <td>19.362</td>\n",
       "      <td>False</td>\n",
       "    </tr>\n",
       "    <tr>\n",
       "      <th>7493</th>\n",
       "      <td>6</td>\n",
       "      <td>2018-10-12 17:00:00</td>\n",
       "      <td>7.447500</td>\n",
       "      <td>NaN</td>\n",
       "      <td>0.100000</td>\n",
       "      <td>97.0</td>\n",
       "      <td>47.594</td>\n",
       "      <td>19.362</td>\n",
       "      <td>False</td>\n",
       "    </tr>\n",
       "    <tr>\n",
       "      <th>7494</th>\n",
       "      <td>6</td>\n",
       "      <td>2018-10-12 18:00:00</td>\n",
       "      <td>7.385000</td>\n",
       "      <td>NaN</td>\n",
       "      <td>0.100000</td>\n",
       "      <td>97.0</td>\n",
       "      <td>47.594</td>\n",
       "      <td>19.362</td>\n",
       "      <td>False</td>\n",
       "    </tr>\n",
       "    <tr>\n",
       "      <th>...</th>\n",
       "      <td>...</td>\n",
       "      <td>...</td>\n",
       "      <td>...</td>\n",
       "      <td>...</td>\n",
       "      <td>...</td>\n",
       "      <td>...</td>\n",
       "      <td>...</td>\n",
       "      <td>...</td>\n",
       "      <td>...</td>\n",
       "    </tr>\n",
       "    <tr>\n",
       "      <th>3984239</th>\n",
       "      <td>2075</td>\n",
       "      <td>2019-10-27 11:00:00</td>\n",
       "      <td>33.165001</td>\n",
       "      <td>27.302500</td>\n",
       "      <td>NaN</td>\n",
       "      <td>91.0</td>\n",
       "      <td>53.772</td>\n",
       "      <td>-1.911</td>\n",
       "      <td>False</td>\n",
       "    </tr>\n",
       "    <tr>\n",
       "      <th>3984240</th>\n",
       "      <td>2075</td>\n",
       "      <td>2019-10-27 12:00:00</td>\n",
       "      <td>33.227501</td>\n",
       "      <td>16.365000</td>\n",
       "      <td>NaN</td>\n",
       "      <td>91.0</td>\n",
       "      <td>53.772</td>\n",
       "      <td>-1.911</td>\n",
       "      <td>False</td>\n",
       "    </tr>\n",
       "    <tr>\n",
       "      <th>3984241</th>\n",
       "      <td>2075</td>\n",
       "      <td>2019-10-27 13:00:00</td>\n",
       "      <td>32.910000</td>\n",
       "      <td>24.635000</td>\n",
       "      <td>NaN</td>\n",
       "      <td>91.0</td>\n",
       "      <td>53.772</td>\n",
       "      <td>-1.911</td>\n",
       "      <td>False</td>\n",
       "    </tr>\n",
       "    <tr>\n",
       "      <th>3984242</th>\n",
       "      <td>2075</td>\n",
       "      <td>2019-10-27 14:00:00</td>\n",
       "      <td>32.767498</td>\n",
       "      <td>20.270000</td>\n",
       "      <td>NaN</td>\n",
       "      <td>91.0</td>\n",
       "      <td>53.772</td>\n",
       "      <td>-1.911</td>\n",
       "      <td>False</td>\n",
       "    </tr>\n",
       "    <tr>\n",
       "      <th>3984243</th>\n",
       "      <td>2075</td>\n",
       "      <td>2019-10-27 15:00:00</td>\n",
       "      <td>33.110001</td>\n",
       "      <td>9.645000</td>\n",
       "      <td>NaN</td>\n",
       "      <td>91.0</td>\n",
       "      <td>53.772</td>\n",
       "      <td>-1.911</td>\n",
       "      <td>False</td>\n",
       "    </tr>\n",
       "  </tbody>\n",
       "</table>\n",
       "<p>2348080 rows × 9 columns</p>\n",
       "</div>"
      ],
      "text/plain": [
       "         LocId            Datetime   Moisture  Temperature     Light  Battery  \\\n",
       "7490         6 2018-10-12 14:00:00   7.580000    19.719999  5.763333     97.0   \n",
       "7491         6 2018-10-12 15:00:00   7.635000          NaN  1.932500     97.0   \n",
       "7492         6 2018-10-12 16:00:00   7.445000          NaN  0.100000     97.0   \n",
       "7493         6 2018-10-12 17:00:00   7.447500          NaN  0.100000     97.0   \n",
       "7494         6 2018-10-12 18:00:00   7.385000          NaN  0.100000     97.0   \n",
       "...        ...                 ...        ...          ...       ...      ...   \n",
       "3984239   2075 2019-10-27 11:00:00  33.165001    27.302500       NaN     91.0   \n",
       "3984240   2075 2019-10-27 12:00:00  33.227501    16.365000       NaN     91.0   \n",
       "3984241   2075 2019-10-27 13:00:00  32.910000    24.635000       NaN     91.0   \n",
       "3984242   2075 2019-10-27 14:00:00  32.767498    20.270000       NaN     91.0   \n",
       "3984243   2075 2019-10-27 15:00:00  33.110001     9.645000       NaN     91.0   \n",
       "\n",
       "         Latitude  Longitude  ZeroMoist  \n",
       "7490       47.594     19.362      False  \n",
       "7491       47.594     19.362      False  \n",
       "7492       47.594     19.362      False  \n",
       "7493       47.594     19.362      False  \n",
       "7494       47.594     19.362      False  \n",
       "...           ...        ...        ...  \n",
       "3984239    53.772     -1.911      False  \n",
       "3984240    53.772     -1.911      False  \n",
       "3984241    53.772     -1.911      False  \n",
       "3984242    53.772     -1.911      False  \n",
       "3984243    53.772     -1.911      False  \n",
       "\n",
       "[2348080 rows x 9 columns]"
      ]
     },
     "execution_count": 3,
     "metadata": {},
     "output_type": "execute_result"
    }
   ],
   "source": []
  },
  {
   "cell_type": "code",
   "execution_count": 4,
   "metadata": {
    "ExecuteTime": {
     "end_time": "2020-07-26T22:43:05.243894Z",
     "start_time": "2020-07-26T22:43:05.239871Z"
    }
   },
   "outputs": [
    {
     "data": {
      "text/plain": [
       "(2348080, 9)"
      ]
     },
     "execution_count": 4,
     "metadata": {},
     "output_type": "execute_result"
    }
   ],
   "source": [
    "df_all.shape"
   ]
  },
  {
   "cell_type": "code",
   "execution_count": 4,
   "metadata": {
    "ExecuteTime": {
     "end_time": "2020-07-16T10:30:42.355304Z",
     "start_time": "2020-07-16T10:30:41.809389Z"
    }
   },
   "outputs": [],
   "source": [
    "df_all = df_all.sort_values(['LocId', 'Datetime'])\n",
    "df_all = df_all.reset_index(drop=True)"
   ]
  },
  {
   "cell_type": "code",
   "execution_count": 5,
   "metadata": {
    "ExecuteTime": {
     "end_time": "2020-07-16T10:30:59.796487Z",
     "start_time": "2020-07-16T10:30:42.955946Z"
    }
   },
   "outputs": [],
   "source": [
    "df_all['DtDiff'] = df_all.groupby('LocId').Datetime.diff()\n",
    "df_all['DtDiff'] = df_all['DtDiff'].apply(lambda x: x.total_seconds() / 3600)"
   ]
  },
  {
   "cell_type": "code",
   "execution_count": 6,
   "metadata": {
    "ExecuteTime": {
     "end_time": "2020-07-16T10:30:59.800398Z",
     "start_time": "2020-07-16T10:30:59.798096Z"
    }
   },
   "outputs": [],
   "source": [
    "thr_hours = 1"
   ]
  },
  {
   "cell_type": "code",
   "execution_count": 7,
   "metadata": {
    "ExecuteTime": {
     "end_time": "2020-07-16T10:31:02.223224Z",
     "start_time": "2020-07-16T10:31:02.201393Z"
    }
   },
   "outputs": [],
   "source": [
    "df_all['ChunkBegin'] = (df_all.DtDiff > thr_hours) | (df_all.DtDiff.isnull())\n",
    "df_all['ChunkId'] = df_all.ChunkBegin.cumsum()"
   ]
  },
  {
   "cell_type": "code",
   "execution_count": 8,
   "metadata": {
    "ExecuteTime": {
     "end_time": "2020-07-16T10:31:02.674655Z",
     "start_time": "2020-07-16T10:31:02.659865Z"
    }
   },
   "outputs": [],
   "source": [
    "df_all['ChunkId'] = df_all['ChunkId'] - 1"
   ]
  },
  {
   "cell_type": "code",
   "execution_count": 9,
   "metadata": {
    "ExecuteTime": {
     "end_time": "2020-07-16T10:31:03.111234Z",
     "start_time": "2020-07-16T10:31:03.096648Z"
    }
   },
   "outputs": [
    {
     "data": {
      "text/plain": [
       "5239"
      ]
     },
     "execution_count": 9,
     "metadata": {},
     "output_type": "execute_result"
    }
   ],
   "source": [
    "df_all.ChunkId.nunique()"
   ]
  },
  {
   "cell_type": "code",
   "execution_count": 10,
   "metadata": {
    "ExecuteTime": {
     "end_time": "2020-07-16T10:31:03.585666Z",
     "start_time": "2020-07-16T10:31:03.580305Z"
    }
   },
   "outputs": [],
   "source": [
    "del df_all['DtDiff']"
   ]
  },
  {
   "cell_type": "code",
   "execution_count": 11,
   "metadata": {
    "ExecuteTime": {
     "end_time": "2020-07-16T10:31:05.242184Z",
     "start_time": "2020-07-16T10:31:04.013073Z"
    }
   },
   "outputs": [],
   "source": [
    "df_all.to_pickle('../data/ts_data_pp01_chunked.pkl')"
   ]
  },
  {
   "cell_type": "code",
   "execution_count": 12,
   "metadata": {
    "ExecuteTime": {
     "end_time": "2020-07-16T10:31:05.255069Z",
     "start_time": "2020-07-16T10:31:05.245839Z"
    }
   },
   "outputs": [
    {
     "data": {
      "text/plain": [
       "Index(['LocId', 'Datetime', 'Moisture', 'Temperature', 'Light', 'Battery',\n",
       "       'Latitude', 'Longitude', 'ZeroMoist', 'ChunkBegin', 'ChunkId'],\n",
       "      dtype='object')"
      ]
     },
     "execution_count": 12,
     "metadata": {},
     "output_type": "execute_result"
    }
   ],
   "source": [
    "df_all.columns"
   ]
  },
  {
   "cell_type": "code",
   "execution_count": 13,
   "metadata": {
    "ExecuteTime": {
     "end_time": "2020-07-16T10:31:05.479746Z",
     "start_time": "2020-07-16T10:31:05.466751Z"
    }
   },
   "outputs": [],
   "source": [
    "del df_all['Temperature']\n",
    "del df_all['Light']\n",
    "del df_all['Battery']"
   ]
  },
  {
   "cell_type": "code",
   "execution_count": 14,
   "metadata": {
    "ExecuteTime": {
     "end_time": "2020-07-16T10:31:06.991840Z",
     "start_time": "2020-07-16T10:31:06.041985Z"
    }
   },
   "outputs": [],
   "source": [
    "df_all.to_pickle('../data/ts_data_pp01_chunked_moist.pkl')"
   ]
  },
  {
   "cell_type": "code",
   "execution_count": null,
   "metadata": {},
   "outputs": [],
   "source": []
  },
  {
   "cell_type": "code",
   "execution_count": null,
   "metadata": {},
   "outputs": [],
   "source": []
  },
  {
   "cell_type": "code",
   "execution_count": null,
   "metadata": {},
   "outputs": [],
   "source": []
  },
  {
   "cell_type": "code",
   "execution_count": null,
   "metadata": {},
   "outputs": [],
   "source": []
  },
  {
   "cell_type": "code",
   "execution_count": null,
   "metadata": {},
   "outputs": [],
   "source": []
  }
 ],
 "metadata": {
  "kernelspec": {
   "display_name": "Python 3",
   "language": "python",
   "name": "python3"
  },
  "language_info": {
   "codemirror_mode": {
    "name": "ipython",
    "version": 3
   },
   "file_extension": ".py",
   "mimetype": "text/x-python",
   "name": "python",
   "nbconvert_exporter": "python",
   "pygments_lexer": "ipython3",
   "version": "3.8.5"
  }
 },
 "nbformat": 4,
 "nbformat_minor": 4
}
