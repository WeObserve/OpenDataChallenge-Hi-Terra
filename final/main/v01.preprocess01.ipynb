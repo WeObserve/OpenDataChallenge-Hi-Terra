{
 "cells": [
  {
   "cell_type": "markdown",
   "metadata": {
    "ExecuteTime": {
     "start_time": "2020-07-31T02:56:47.720Z"
    }
   },
   "source": [
    "## Preprocess\n",
    "\n",
    "#### Inputs: \n",
    "- GrowTimeSeries_BatteryLevel.csv\n",
    "- GrowTimeSeries_SoilMoisture.csv\n",
    "- GrowTimeSeries_Light.csv\n",
    "- GrowTimeSeries_AirTemperature.csv\n",
    "- GrowLocations\n",
    "\n",
    "First 4 csv files are subsets of the original timeseries data for different sensors, header is the same\n",
    "\n",
    "#### Output:\n",
    "- ts_data_pp01.pkl: Preprocessed data\n"
   ]
  },
  {
   "cell_type": "code",
   "execution_count": null,
   "metadata": {},
   "outputs": [],
   "source": []
  },
  {
   "cell_type": "code",
   "execution_count": 2,
   "metadata": {
    "ExecuteTime": {
     "end_time": "2020-07-16T10:29:39.186381Z",
     "start_time": "2020-07-16T10:29:38.447340Z"
    }
   },
   "outputs": [],
   "source": [
    "import pandas as pd\n",
    "import numpy as np\n",
    "import matplotlib.pyplot as plt\n",
    "import os\n",
    "import datetime as dt\n",
    "import gc\n",
    "import dask.dataframe as dd\n",
    "from geopy import distance as gd\n",
    "\n",
    "%matplotlib inline"
   ]
  },
  {
   "cell_type": "code",
   "execution_count": 16,
   "metadata": {
    "ExecuteTime": {
     "end_time": "2020-06-25T21:07:56.463133Z",
     "start_time": "2020-06-25T21:07:56.460566Z"
    }
   },
   "outputs": [],
   "source": [
    "col_types = {\n",
    "    'sActualValue': np.float32\n",
    "}"
   ]
  },
  {
   "cell_type": "code",
   "execution_count": 17,
   "metadata": {
    "ExecuteTime": {
     "end_time": "2020-06-25T21:07:56.604345Z",
     "start_time": "2020-06-25T21:07:56.601515Z"
    }
   },
   "outputs": [],
   "source": [
    "use_cols = ['Serial', 'Device', 'sActualValue', 'sTime']"
   ]
  },
  {
   "cell_type": "markdown",
   "metadata": {},
   "source": [
    "##### Battery"
   ]
  },
  {
   "cell_type": "code",
   "execution_count": 4,
   "metadata": {
    "ExecuteTime": {
     "end_time": "2020-06-25T12:33:01.366032Z",
     "start_time": "2020-06-25T12:31:19.201854Z"
    }
   },
   "outputs": [],
   "source": [
    "df_bat = pd.read_csv('GrowTimeSeries_BatteryLevel.csv', dtype=col_types, usecols=use_cols, parse_dates=['sTime'])"
   ]
  },
  {
   "cell_type": "code",
   "execution_count": 3,
   "metadata": {
    "ExecuteTime": {
     "end_time": "2020-06-25T21:01:03.029728Z",
     "start_time": "2020-06-25T21:01:02.977234Z"
    },
    "scrolled": true
   },
   "outputs": [
    {
     "data": {
      "text/html": [
       "<div>\n",
       "<style scoped>\n",
       "    .dataframe tbody tr th:only-of-type {\n",
       "        vertical-align: middle;\n",
       "    }\n",
       "\n",
       "    .dataframe tbody tr th {\n",
       "        vertical-align: top;\n",
       "    }\n",
       "\n",
       "    .dataframe thead th {\n",
       "        text-align: right;\n",
       "    }\n",
       "</style>\n",
       "<table border=\"1\" class=\"dataframe\">\n",
       "  <thead>\n",
       "    <tr style=\"text-align: right;\">\n",
       "      <th></th>\n",
       "      <th>Serial</th>\n",
       "      <th>Device</th>\n",
       "      <th>sActualValue</th>\n",
       "      <th>sTime</th>\n",
       "    </tr>\n",
       "  </thead>\n",
       "  <tbody>\n",
       "    <tr>\n",
       "      <th>0</th>\n",
       "      <td>PI040298AD5G203425</td>\n",
       "      <td>Grow.Thingful.Sensors_fzja2fbn</td>\n",
       "      <td>100.0</td>\n",
       "      <td>2018-10-17 13:11:22+00:00</td>\n",
       "    </tr>\n",
       "    <tr>\n",
       "      <th>1</th>\n",
       "      <td>PI040298AD5G203425</td>\n",
       "      <td>Grow.Thingful.Sensors_fzja2fbn</td>\n",
       "      <td>100.0</td>\n",
       "      <td>2018-10-17 13:26:22+00:00</td>\n",
       "    </tr>\n",
       "    <tr>\n",
       "      <th>2</th>\n",
       "      <td>PI040298AD5G203425</td>\n",
       "      <td>Grow.Thingful.Sensors_fzja2fbn</td>\n",
       "      <td>100.0</td>\n",
       "      <td>2018-10-17 13:41:22+00:00</td>\n",
       "    </tr>\n",
       "    <tr>\n",
       "      <th>3</th>\n",
       "      <td>PI040298AD5G203425</td>\n",
       "      <td>Grow.Thingful.Sensors_fzja2fbn</td>\n",
       "      <td>100.0</td>\n",
       "      <td>2018-10-17 13:56:22+00:00</td>\n",
       "    </tr>\n",
       "    <tr>\n",
       "      <th>4</th>\n",
       "      <td>PI040298AD5J215142</td>\n",
       "      <td>Grow.Thingful.Sensors_5tjrqt1c</td>\n",
       "      <td>100.0</td>\n",
       "      <td>2018-10-17 13:14:07+00:00</td>\n",
       "    </tr>\n",
       "    <tr>\n",
       "      <th>...</th>\n",
       "      <td>...</td>\n",
       "      <td>...</td>\n",
       "      <td>...</td>\n",
       "      <td>...</td>\n",
       "    </tr>\n",
       "    <tr>\n",
       "      <th>29501150</th>\n",
       "      <td>PI040298AA4E057627</td>\n",
       "      <td>Grow.Thingful.Sensors_v5g5zde1</td>\n",
       "      <td>80.0</td>\n",
       "      <td>2019-10-30 14:33:29+00:00</td>\n",
       "    </tr>\n",
       "    <tr>\n",
       "      <th>29501151</th>\n",
       "      <td>PI040298AA4E057627</td>\n",
       "      <td>Grow.Thingful.Sensors_v5g5zde1</td>\n",
       "      <td>80.0</td>\n",
       "      <td>2019-10-30 14:48:29+00:00</td>\n",
       "    </tr>\n",
       "    <tr>\n",
       "      <th>29501152</th>\n",
       "      <td>PI040298AA4E057627</td>\n",
       "      <td>Grow.Thingful.Sensors_v5g5zde1</td>\n",
       "      <td>80.0</td>\n",
       "      <td>2019-10-30 15:03:29+00:00</td>\n",
       "    </tr>\n",
       "    <tr>\n",
       "      <th>29501153</th>\n",
       "      <td>PI040298AA4E057627</td>\n",
       "      <td>Grow.Thingful.Sensors_v5g5zde1</td>\n",
       "      <td>80.0</td>\n",
       "      <td>2019-10-30 15:18:29+00:00</td>\n",
       "    </tr>\n",
       "    <tr>\n",
       "      <th>29501154</th>\n",
       "      <td>PI040298AA4E057627</td>\n",
       "      <td>Grow.Thingful.Sensors_v5g5zde1</td>\n",
       "      <td>80.0</td>\n",
       "      <td>2019-10-30 15:33:29+00:00</td>\n",
       "    </tr>\n",
       "  </tbody>\n",
       "</table>\n",
       "<p>29501155 rows × 4 columns</p>\n",
       "</div>"
      ],
      "text/plain": [
       "                      Serial                          Device  sActualValue  \\\n",
       "0         PI040298AD5G203425  Grow.Thingful.Sensors_fzja2fbn         100.0   \n",
       "1         PI040298AD5G203425  Grow.Thingful.Sensors_fzja2fbn         100.0   \n",
       "2         PI040298AD5G203425  Grow.Thingful.Sensors_fzja2fbn         100.0   \n",
       "3         PI040298AD5G203425  Grow.Thingful.Sensors_fzja2fbn         100.0   \n",
       "4         PI040298AD5J215142  Grow.Thingful.Sensors_5tjrqt1c         100.0   \n",
       "...                      ...                             ...           ...   \n",
       "29501150  PI040298AA4E057627  Grow.Thingful.Sensors_v5g5zde1          80.0   \n",
       "29501151  PI040298AA4E057627  Grow.Thingful.Sensors_v5g5zde1          80.0   \n",
       "29501152  PI040298AA4E057627  Grow.Thingful.Sensors_v5g5zde1          80.0   \n",
       "29501153  PI040298AA4E057627  Grow.Thingful.Sensors_v5g5zde1          80.0   \n",
       "29501154  PI040298AA4E057627  Grow.Thingful.Sensors_v5g5zde1          80.0   \n",
       "\n",
       "                             sTime  \n",
       "0        2018-10-17 13:11:22+00:00  \n",
       "1        2018-10-17 13:26:22+00:00  \n",
       "2        2018-10-17 13:41:22+00:00  \n",
       "3        2018-10-17 13:56:22+00:00  \n",
       "4        2018-10-17 13:14:07+00:00  \n",
       "...                            ...  \n",
       "29501150 2019-10-30 14:33:29+00:00  \n",
       "29501151 2019-10-30 14:48:29+00:00  \n",
       "29501152 2019-10-30 15:03:29+00:00  \n",
       "29501153 2019-10-30 15:18:29+00:00  \n",
       "29501154 2019-10-30 15:33:29+00:00  \n",
       "\n",
       "[29501155 rows x 4 columns]"
      ]
     },
     "execution_count": 3,
     "metadata": {},
     "output_type": "execute_result"
    }
   ],
   "source": [
    "df_bat"
   ]
  },
  {
   "cell_type": "code",
   "execution_count": 5,
   "metadata": {
    "ExecuteTime": {
     "end_time": "2020-06-25T21:03:49.460973Z",
     "start_time": "2020-06-25T21:01:47.469117Z"
    }
   },
   "outputs": [],
   "source": [
    "df_bat['Datetime'] = df_bat.sTime.apply(lambda x: dt.datetime(x.year, x.month, x.day, x.hour, 0))"
   ]
  },
  {
   "cell_type": "code",
   "execution_count": 6,
   "metadata": {
    "ExecuteTime": {
     "end_time": "2020-06-25T21:04:01.259707Z",
     "start_time": "2020-06-25T21:04:00.320538Z"
    }
   },
   "outputs": [
    {
     "data": {
      "text/plain": [
       "23103"
      ]
     },
     "execution_count": 6,
     "metadata": {},
     "output_type": "execute_result"
    }
   ],
   "source": [
    "df_bat.Serial.isnull().sum()"
   ]
  },
  {
   "cell_type": "code",
   "execution_count": 8,
   "metadata": {
    "ExecuteTime": {
     "end_time": "2020-06-25T21:04:24.731222Z",
     "start_time": "2020-06-25T21:04:21.777101Z"
    }
   },
   "outputs": [
    {
     "data": {
      "text/plain": [
       "60"
      ]
     },
     "execution_count": 8,
     "metadata": {},
     "output_type": "execute_result"
    }
   ],
   "source": [
    "df_bat = df_bat[~df_bat.Serial.isnull()].copy()\n",
    "gc.collect()"
   ]
  },
  {
   "cell_type": "code",
   "execution_count": 11,
   "metadata": {
    "ExecuteTime": {
     "end_time": "2020-06-25T21:05:36.001789Z",
     "start_time": "2020-06-25T21:05:31.411074Z"
    }
   },
   "outputs": [],
   "source": [
    "df_bat['Serial'] = df_bat.Serial.apply(lambda x: x[:18])"
   ]
  },
  {
   "cell_type": "code",
   "execution_count": 12,
   "metadata": {
    "ExecuteTime": {
     "end_time": "2020-06-25T21:05:58.988981Z",
     "start_time": "2020-06-25T21:05:53.293408Z"
    }
   },
   "outputs": [],
   "source": [
    "df_bat2 = df_bat.groupby(['Serial', 'Datetime']).sActualValue.mean().reset_index()"
   ]
  },
  {
   "cell_type": "code",
   "execution_count": 13,
   "metadata": {
    "ExecuteTime": {
     "end_time": "2020-06-25T21:06:23.384026Z",
     "start_time": "2020-06-25T21:06:21.839345Z"
    }
   },
   "outputs": [],
   "source": [
    "df_bat2.to_pickle('GrowTimeSeries_BatteryLevel.pkl')"
   ]
  },
  {
   "cell_type": "code",
   "execution_count": 14,
   "metadata": {
    "ExecuteTime": {
     "end_time": "2020-06-25T21:06:24.861739Z",
     "start_time": "2020-06-25T21:06:24.623403Z"
    }
   },
   "outputs": [
    {
     "data": {
      "text/plain": [
       "121"
      ]
     },
     "execution_count": 14,
     "metadata": {},
     "output_type": "execute_result"
    }
   ],
   "source": [
    "del df_bat\n",
    "del df_bat2\n",
    "\n",
    "gc.collect()"
   ]
  },
  {
   "cell_type": "markdown",
   "metadata": {},
   "source": [
    "#### Soil Moisture"
   ]
  },
  {
   "cell_type": "code",
   "execution_count": 8,
   "metadata": {
    "ExecuteTime": {
     "end_time": "2020-06-25T12:35:27.680382Z",
     "start_time": "2020-06-25T12:33:50.391674Z"
    }
   },
   "outputs": [],
   "source": [
    "df_moi = pd.read_csv('GrowTimeSeries_SoilMoisture.csv', dtype=col_types, usecols=use_cols, parse_dates=['sTime'])"
   ]
  },
  {
   "cell_type": "code",
   "execution_count": 13,
   "metadata": {
    "ExecuteTime": {
     "end_time": "2020-06-25T12:44:36.969672Z",
     "start_time": "2020-06-25T12:42:44.866368Z"
    }
   },
   "outputs": [],
   "source": [
    "df_moi['Datetime_h'] = df_moi.sTime.apply(lambda x: dt.datetime(x.year, x.month, x.day, x.hour, 0))"
   ]
  },
  {
   "cell_type": "code",
   "execution_count": 54,
   "metadata": {
    "ExecuteTime": {
     "end_time": "2020-06-25T18:25:04.480278Z",
     "start_time": "2020-06-25T18:25:00.158209Z"
    }
   },
   "outputs": [
    {
     "data": {
      "text/plain": [
       "98701"
      ]
     },
     "execution_count": 54,
     "metadata": {},
     "output_type": "execute_result"
    }
   ],
   "source": [
    "df_moi = df_moi[~df_moi.Serial.isnull()].copy()\n",
    "gc.collect()"
   ]
  },
  {
   "cell_type": "code",
   "execution_count": 56,
   "metadata": {
    "ExecuteTime": {
     "end_time": "2020-06-25T18:25:26.574108Z",
     "start_time": "2020-06-25T18:25:21.876683Z"
    }
   },
   "outputs": [],
   "source": [
    "df_moi['Serial'] = df_moi.Serial.apply(lambda x: x[:18])"
   ]
  },
  {
   "cell_type": "code",
   "execution_count": 62,
   "metadata": {
    "ExecuteTime": {
     "end_time": "2020-06-25T18:26:35.712949Z",
     "start_time": "2020-06-25T18:26:29.678952Z"
    }
   },
   "outputs": [],
   "source": [
    "df_moi2 = df_moi.groupby(['Serial', 'Datetime_h']).sActualValue.mean().reset_index()"
   ]
  },
  {
   "cell_type": "code",
   "execution_count": 232,
   "metadata": {
    "ExecuteTime": {
     "end_time": "2020-06-25T20:59:27.834299Z",
     "start_time": "2020-06-25T20:59:26.650984Z"
    }
   },
   "outputs": [],
   "source": [
    "df_moi2.to_pickle('GrowTimeSeries_SoilMoisture.pkl')"
   ]
  },
  {
   "cell_type": "code",
   "execution_count": 234,
   "metadata": {
    "ExecuteTime": {
     "end_time": "2020-06-25T20:59:59.839900Z",
     "start_time": "2020-06-25T20:59:59.121008Z"
    }
   },
   "outputs": [
    {
     "data": {
      "text/plain": [
       "166327"
      ]
     },
     "execution_count": 234,
     "metadata": {},
     "output_type": "execute_result"
    }
   ],
   "source": [
    "del df_moi2\n",
    "gc.collect()"
   ]
  },
  {
   "cell_type": "code",
   "execution_count": 235,
   "metadata": {
    "ExecuteTime": {
     "end_time": "2020-06-25T21:00:09.586046Z",
     "start_time": "2020-06-25T21:00:09.019520Z"
    }
   },
   "outputs": [
    {
     "data": {
      "text/plain": [
       "20"
      ]
     },
     "execution_count": 235,
     "metadata": {},
     "output_type": "execute_result"
    }
   ],
   "source": [
    "del df_moi\n",
    "gc.collect()"
   ]
  },
  {
   "cell_type": "markdown",
   "metadata": {},
   "source": [
    "#### Light"
   ]
  },
  {
   "cell_type": "code",
   "execution_count": 18,
   "metadata": {
    "ExecuteTime": {
     "end_time": "2020-06-25T21:09:40.821624Z",
     "start_time": "2020-06-25T21:08:01.185877Z"
    }
   },
   "outputs": [],
   "source": [
    "df_lig = pd.read_csv('GrowTimeSeries_Light.csv', dtype=col_types, usecols=use_cols, parse_dates=['sTime'])"
   ]
  },
  {
   "cell_type": "code",
   "execution_count": 19,
   "metadata": {
    "ExecuteTime": {
     "end_time": "2020-06-25T21:11:43.597766Z",
     "start_time": "2020-06-25T21:09:46.507194Z"
    }
   },
   "outputs": [],
   "source": [
    "df_lig['Datetime'] = df_lig.sTime.apply(lambda x: dt.datetime(x.year, x.month, x.day, x.hour, 0))"
   ]
  },
  {
   "cell_type": "code",
   "execution_count": 20,
   "metadata": {
    "ExecuteTime": {
     "end_time": "2020-06-25T21:11:44.522727Z",
     "start_time": "2020-06-25T21:11:43.599258Z"
    }
   },
   "outputs": [
    {
     "data": {
      "text/plain": [
       "20751"
      ]
     },
     "execution_count": 20,
     "metadata": {},
     "output_type": "execute_result"
    }
   ],
   "source": [
    "df_lig.Serial.isnull().sum()"
   ]
  },
  {
   "cell_type": "code",
   "execution_count": 21,
   "metadata": {
    "ExecuteTime": {
     "end_time": "2020-06-25T21:11:52.623460Z",
     "start_time": "2020-06-25T21:11:49.450331Z"
    }
   },
   "outputs": [
    {
     "data": {
      "text/plain": [
       "40"
      ]
     },
     "execution_count": 21,
     "metadata": {},
     "output_type": "execute_result"
    }
   ],
   "source": [
    "df_lig = df_lig[~df_lig.Serial.isnull()].copy()\n",
    "gc.collect()"
   ]
  },
  {
   "cell_type": "code",
   "execution_count": 22,
   "metadata": {
    "ExecuteTime": {
     "end_time": "2020-06-25T21:11:58.405461Z",
     "start_time": "2020-06-25T21:11:53.867724Z"
    }
   },
   "outputs": [],
   "source": [
    "df_lig['Serial'] = df_lig.Serial.apply(lambda x: x[:18])"
   ]
  },
  {
   "cell_type": "code",
   "execution_count": 23,
   "metadata": {
    "ExecuteTime": {
     "end_time": "2020-06-25T21:12:05.832607Z",
     "start_time": "2020-06-25T21:12:00.703383Z"
    }
   },
   "outputs": [],
   "source": [
    "df_lig2 = df_lig.groupby(['Serial', 'Datetime']).sActualValue.mean().reset_index()"
   ]
  },
  {
   "cell_type": "code",
   "execution_count": 24,
   "metadata": {
    "ExecuteTime": {
     "end_time": "2020-06-25T21:12:12.020930Z",
     "start_time": "2020-06-25T21:12:11.650196Z"
    }
   },
   "outputs": [],
   "source": [
    "df_lig2.to_pickle('GrowTimeSeries_Light.pkl')"
   ]
  },
  {
   "cell_type": "code",
   "execution_count": 25,
   "metadata": {
    "ExecuteTime": {
     "end_time": "2020-06-25T21:12:12.860309Z",
     "start_time": "2020-06-25T21:12:12.788259Z"
    }
   },
   "outputs": [
    {
     "data": {
      "text/plain": [
       "80"
      ]
     },
     "execution_count": 25,
     "metadata": {},
     "output_type": "execute_result"
    }
   ],
   "source": [
    "del df_lig2\n",
    "gc.collect()"
   ]
  },
  {
   "cell_type": "code",
   "execution_count": 26,
   "metadata": {
    "ExecuteTime": {
     "end_time": "2020-06-25T21:12:13.587090Z",
     "start_time": "2020-06-25T21:12:13.362902Z"
    }
   },
   "outputs": [
    {
     "data": {
      "text/plain": [
       "20"
      ]
     },
     "execution_count": 26,
     "metadata": {},
     "output_type": "execute_result"
    }
   ],
   "source": [
    "del df_lig\n",
    "gc.collect()"
   ]
  },
  {
   "cell_type": "markdown",
   "metadata": {},
   "source": [
    "#### AirTemperature"
   ]
  },
  {
   "cell_type": "code",
   "execution_count": 27,
   "metadata": {
    "ExecuteTime": {
     "end_time": "2020-06-25T21:14:49.031472Z",
     "start_time": "2020-06-25T21:13:06.573328Z"
    }
   },
   "outputs": [],
   "source": [
    "df_tem = pd.read_csv('GrowTimeSeries_AirTemperature.csv', dtype=col_types, usecols=use_cols, parse_dates=['sTime'])"
   ]
  },
  {
   "cell_type": "code",
   "execution_count": 28,
   "metadata": {
    "ExecuteTime": {
     "end_time": "2020-06-25T21:16:55.662890Z",
     "start_time": "2020-06-25T21:14:56.088390Z"
    }
   },
   "outputs": [],
   "source": [
    "df_tem['Datetime'] = df_tem.sTime.apply(lambda x: dt.datetime(x.year, x.month, x.day, x.hour, 0))"
   ]
  },
  {
   "cell_type": "code",
   "execution_count": 29,
   "metadata": {
    "ExecuteTime": {
     "end_time": "2020-06-25T21:17:07.586114Z",
     "start_time": "2020-06-25T21:17:06.669717Z"
    }
   },
   "outputs": [
    {
     "data": {
      "text/plain": [
       "19713"
      ]
     },
     "execution_count": 29,
     "metadata": {},
     "output_type": "execute_result"
    }
   ],
   "source": [
    "df_tem.Serial.isnull().sum()"
   ]
  },
  {
   "cell_type": "code",
   "execution_count": 30,
   "metadata": {
    "ExecuteTime": {
     "end_time": "2020-06-25T21:17:15.677997Z",
     "start_time": "2020-06-25T21:17:12.641348Z"
    }
   },
   "outputs": [
    {
     "data": {
      "text/plain": [
       "40"
      ]
     },
     "execution_count": 30,
     "metadata": {},
     "output_type": "execute_result"
    }
   ],
   "source": [
    "df_tem = df_tem[~df_tem.Serial.isnull()].copy()\n",
    "gc.collect()"
   ]
  },
  {
   "cell_type": "code",
   "execution_count": 31,
   "metadata": {
    "ExecuteTime": {
     "end_time": "2020-06-25T21:17:21.101487Z",
     "start_time": "2020-06-25T21:17:16.686771Z"
    }
   },
   "outputs": [],
   "source": [
    "df_tem['Serial'] = df_tem.Serial.apply(lambda x: x[:18])"
   ]
  },
  {
   "cell_type": "code",
   "execution_count": 32,
   "metadata": {
    "ExecuteTime": {
     "end_time": "2020-06-25T21:17:29.620042Z",
     "start_time": "2020-06-25T21:17:24.525905Z"
    }
   },
   "outputs": [],
   "source": [
    "df_tem2 = df_tem.groupby(['Serial', 'Datetime']).sActualValue.mean().reset_index()"
   ]
  },
  {
   "cell_type": "code",
   "execution_count": 33,
   "metadata": {
    "ExecuteTime": {
     "end_time": "2020-06-25T21:17:33.634017Z",
     "start_time": "2020-06-25T21:17:33.271411Z"
    }
   },
   "outputs": [],
   "source": [
    "df_tem2.to_pickle('GrowTimeSeries_AirTemperature.pkl')"
   ]
  },
  {
   "cell_type": "code",
   "execution_count": 34,
   "metadata": {
    "ExecuteTime": {
     "end_time": "2020-06-25T21:17:34.919641Z",
     "start_time": "2020-06-25T21:17:34.853166Z"
    }
   },
   "outputs": [
    {
     "data": {
      "text/plain": [
       "80"
      ]
     },
     "execution_count": 34,
     "metadata": {},
     "output_type": "execute_result"
    }
   ],
   "source": [
    "del df_tem2\n",
    "gc.collect()"
   ]
  },
  {
   "cell_type": "code",
   "execution_count": 35,
   "metadata": {
    "ExecuteTime": {
     "end_time": "2020-06-25T21:17:36.091530Z",
     "start_time": "2020-06-25T21:17:35.864404Z"
    }
   },
   "outputs": [
    {
     "data": {
      "text/plain": [
       "20"
      ]
     },
     "execution_count": 35,
     "metadata": {},
     "output_type": "execute_result"
    }
   ],
   "source": [
    "del df_tem\n",
    "gc.collect()"
   ]
  },
  {
   "cell_type": "markdown",
   "metadata": {},
   "source": [
    "## Combine"
   ]
  },
  {
   "cell_type": "code",
   "execution_count": 2,
   "metadata": {
    "ExecuteTime": {
     "end_time": "2020-06-25T21:34:05.134161Z",
     "start_time": "2020-06-25T21:34:04.885341Z"
    }
   },
   "outputs": [],
   "source": [
    "df_moi = pd.read_pickle('GrowTimeSeries_SoilMoisture.pkl')"
   ]
  },
  {
   "cell_type": "code",
   "execution_count": 3,
   "metadata": {
    "ExecuteTime": {
     "end_time": "2020-06-25T21:34:05.344860Z",
     "start_time": "2020-06-25T21:34:05.145232Z"
    }
   },
   "outputs": [],
   "source": [
    "df_moi = df_moi.rename({'Datetime_h': 'Datetime'}, axis=1)"
   ]
  },
  {
   "cell_type": "code",
   "execution_count": 4,
   "metadata": {
    "ExecuteTime": {
     "end_time": "2020-06-25T21:34:06.363871Z",
     "start_time": "2020-06-25T21:34:06.359616Z"
    }
   },
   "outputs": [
    {
     "data": {
      "text/plain": [
       "(7352512, 3)"
      ]
     },
     "execution_count": 4,
     "metadata": {},
     "output_type": "execute_result"
    }
   ],
   "source": [
    "df_moi.shape"
   ]
  },
  {
   "cell_type": "code",
   "execution_count": 5,
   "metadata": {
    "ExecuteTime": {
     "end_time": "2020-06-25T21:34:06.942242Z",
     "start_time": "2020-06-25T21:34:06.675993Z"
    }
   },
   "outputs": [],
   "source": [
    "df_tem = pd.read_pickle('GrowTimeSeries_AirTemperature.pkl')"
   ]
  },
  {
   "cell_type": "code",
   "execution_count": 6,
   "metadata": {
    "ExecuteTime": {
     "end_time": "2020-06-25T21:34:06.947213Z",
     "start_time": "2020-06-25T21:34:06.943967Z"
    }
   },
   "outputs": [
    {
     "data": {
      "text/plain": [
       "(7374253, 3)"
      ]
     },
     "execution_count": 6,
     "metadata": {},
     "output_type": "execute_result"
    }
   ],
   "source": [
    "df_tem.shape"
   ]
  },
  {
   "cell_type": "code",
   "execution_count": 7,
   "metadata": {
    "ExecuteTime": {
     "end_time": "2020-06-25T21:34:15.997202Z",
     "start_time": "2020-06-25T21:34:15.993557Z"
    },
    "scrolled": true
   },
   "outputs": [
    {
     "data": {
      "text/plain": [
       "Index(['Serial', 'Datetime', 'sActualValue'], dtype='object')"
      ]
     },
     "execution_count": 7,
     "metadata": {},
     "output_type": "execute_result"
    }
   ],
   "source": [
    "df_moi.columns"
   ]
  },
  {
   "cell_type": "code",
   "execution_count": 8,
   "metadata": {
    "ExecuteTime": {
     "end_time": "2020-06-25T21:34:16.385969Z",
     "start_time": "2020-06-25T21:34:16.189159Z"
    }
   },
   "outputs": [],
   "source": [
    "df_moi = df_moi.rename({'sActualValue': 'Moisture'}, axis=1)"
   ]
  },
  {
   "cell_type": "code",
   "execution_count": 9,
   "metadata": {
    "ExecuteTime": {
     "end_time": "2020-06-25T21:34:17.052401Z",
     "start_time": "2020-06-25T21:34:16.855171Z"
    }
   },
   "outputs": [],
   "source": [
    "df_tem = df_tem.rename({'sActualValue': 'Temperature'}, axis=1)"
   ]
  },
  {
   "cell_type": "code",
   "execution_count": 10,
   "metadata": {
    "ExecuteTime": {
     "end_time": "2020-06-25T21:34:47.415727Z",
     "start_time": "2020-06-25T21:34:45.881802Z"
    }
   },
   "outputs": [],
   "source": [
    "df_moi = df_moi.set_index(['Serial', 'Datetime'])\n",
    "\n",
    "df_tem = df_tem.set_index(['Serial', 'Datetime'])"
   ]
  },
  {
   "cell_type": "code",
   "execution_count": 12,
   "metadata": {
    "ExecuteTime": {
     "end_time": "2020-06-25T21:36:24.608098Z",
     "start_time": "2020-06-25T21:35:28.497316Z"
    }
   },
   "outputs": [],
   "source": [
    "df_all = df_moi.join(df_tem, how='outer')"
   ]
  },
  {
   "cell_type": "code",
   "execution_count": 14,
   "metadata": {
    "ExecuteTime": {
     "end_time": "2020-06-25T21:37:12.518833Z",
     "start_time": "2020-06-25T21:37:12.475175Z"
    }
   },
   "outputs": [
    {
     "data": {
      "text/plain": [
       "3489552"
      ]
     },
     "execution_count": 14,
     "metadata": {},
     "output_type": "execute_result"
    }
   ],
   "source": [
    "((~df_all.Moisture.isnull()) & (~df_all.Temperature.isnull())).sum()"
   ]
  },
  {
   "cell_type": "code",
   "execution_count": 15,
   "metadata": {
    "ExecuteTime": {
     "end_time": "2020-06-25T21:37:17.542982Z",
     "start_time": "2020-06-25T21:37:17.540063Z"
    }
   },
   "outputs": [
    {
     "data": {
      "text/plain": [
       "(11237213, 2)"
      ]
     },
     "execution_count": 15,
     "metadata": {},
     "output_type": "execute_result"
    }
   ],
   "source": [
    "df_all.shape"
   ]
  },
  {
   "cell_type": "code",
   "execution_count": 16,
   "metadata": {
    "ExecuteTime": {
     "end_time": "2020-06-25T21:37:42.255501Z",
     "start_time": "2020-06-25T21:37:42.238689Z"
    }
   },
   "outputs": [
    {
     "data": {
      "text/html": [
       "<div>\n",
       "<style scoped>\n",
       "    .dataframe tbody tr th:only-of-type {\n",
       "        vertical-align: middle;\n",
       "    }\n",
       "\n",
       "    .dataframe tbody tr th {\n",
       "        vertical-align: top;\n",
       "    }\n",
       "\n",
       "    .dataframe thead th {\n",
       "        text-align: right;\n",
       "    }\n",
       "</style>\n",
       "<table border=\"1\" class=\"dataframe\">\n",
       "  <thead>\n",
       "    <tr style=\"text-align: right;\">\n",
       "      <th></th>\n",
       "      <th></th>\n",
       "      <th>Moisture</th>\n",
       "      <th>Temperature</th>\n",
       "    </tr>\n",
       "    <tr>\n",
       "      <th>Serial</th>\n",
       "      <th>Datetime</th>\n",
       "      <th></th>\n",
       "      <th></th>\n",
       "    </tr>\n",
       "  </thead>\n",
       "  <tbody>\n",
       "    <tr>\n",
       "      <th rowspan=\"5\" valign=\"top\">PI040290AA00000000</th>\n",
       "      <th>2019-07-31 09:00:00</th>\n",
       "      <td>NaN</td>\n",
       "      <td>28.150000</td>\n",
       "    </tr>\n",
       "    <tr>\n",
       "      <th>2019-07-31 10:00:00</th>\n",
       "      <td>NaN</td>\n",
       "      <td>28.542500</td>\n",
       "    </tr>\n",
       "    <tr>\n",
       "      <th>2019-07-31 11:00:00</th>\n",
       "      <td>NaN</td>\n",
       "      <td>28.987499</td>\n",
       "    </tr>\n",
       "    <tr>\n",
       "      <th>2019-07-31 12:00:00</th>\n",
       "      <td>NaN</td>\n",
       "      <td>28.485001</td>\n",
       "    </tr>\n",
       "    <tr>\n",
       "      <th>2019-07-31 13:00:00</th>\n",
       "      <td>NaN</td>\n",
       "      <td>28.220001</td>\n",
       "    </tr>\n",
       "    <tr>\n",
       "      <th>...</th>\n",
       "      <th>...</th>\n",
       "      <td>...</td>\n",
       "      <td>...</td>\n",
       "    </tr>\n",
       "    <tr>\n",
       "      <th rowspan=\"5\" valign=\"top\">PPI040297AD5I20567</th>\n",
       "      <th>2019-09-22 11:00:00</th>\n",
       "      <td>31.582500</td>\n",
       "      <td>NaN</td>\n",
       "    </tr>\n",
       "    <tr>\n",
       "      <th>2019-09-22 12:00:00</th>\n",
       "      <td>31.525000</td>\n",
       "      <td>NaN</td>\n",
       "    </tr>\n",
       "    <tr>\n",
       "      <th>2019-09-22 13:00:00</th>\n",
       "      <td>31.182501</td>\n",
       "      <td>NaN</td>\n",
       "    </tr>\n",
       "    <tr>\n",
       "      <th>2019-09-22 14:00:00</th>\n",
       "      <td>31.250000</td>\n",
       "      <td>NaN</td>\n",
       "    </tr>\n",
       "    <tr>\n",
       "      <th>2019-09-22 15:00:00</th>\n",
       "      <td>31.280001</td>\n",
       "      <td>NaN</td>\n",
       "    </tr>\n",
       "  </tbody>\n",
       "</table>\n",
       "<p>11237213 rows × 2 columns</p>\n",
       "</div>"
      ],
      "text/plain": [
       "                                         Moisture  Temperature\n",
       "Serial             Datetime                                   \n",
       "PI040290AA00000000 2019-07-31 09:00:00        NaN    28.150000\n",
       "                   2019-07-31 10:00:00        NaN    28.542500\n",
       "                   2019-07-31 11:00:00        NaN    28.987499\n",
       "                   2019-07-31 12:00:00        NaN    28.485001\n",
       "                   2019-07-31 13:00:00        NaN    28.220001\n",
       "...                                           ...          ...\n",
       "PPI040297AD5I20567 2019-09-22 11:00:00  31.582500          NaN\n",
       "                   2019-09-22 12:00:00  31.525000          NaN\n",
       "                   2019-09-22 13:00:00  31.182501          NaN\n",
       "                   2019-09-22 14:00:00  31.250000          NaN\n",
       "                   2019-09-22 15:00:00  31.280001          NaN\n",
       "\n",
       "[11237213 rows x 2 columns]"
      ]
     },
     "execution_count": 16,
     "metadata": {},
     "output_type": "execute_result"
    }
   ],
   "source": [
    "df_all"
   ]
  },
  {
   "cell_type": "code",
   "execution_count": 21,
   "metadata": {
    "ExecuteTime": {
     "end_time": "2020-06-25T21:38:56.510684Z",
     "start_time": "2020-06-25T21:38:56.472387Z"
    }
   },
   "outputs": [
    {
     "data": {
      "text/plain": [
       "3489552"
      ]
     },
     "execution_count": 21,
     "metadata": {},
     "output_type": "execute_result"
    }
   ],
   "source": [
    "(~(df_all.Moisture + df_all.Temperature).isnull()).sum()"
   ]
  },
  {
   "cell_type": "code",
   "execution_count": 22,
   "metadata": {
    "ExecuteTime": {
     "end_time": "2020-06-25T21:39:36.980049Z",
     "start_time": "2020-06-25T21:39:35.917924Z"
    }
   },
   "outputs": [
    {
     "data": {
      "text/plain": [
       "180"
      ]
     },
     "execution_count": 22,
     "metadata": {},
     "output_type": "execute_result"
    }
   ],
   "source": [
    "del df_tem, df_moi\n",
    "gc.collect()"
   ]
  },
  {
   "cell_type": "code",
   "execution_count": 23,
   "metadata": {
    "ExecuteTime": {
     "end_time": "2020-06-25T21:39:55.005184Z",
     "start_time": "2020-06-25T21:39:53.476138Z"
    }
   },
   "outputs": [],
   "source": [
    "df_lig = pd.read_pickle('GrowTimeSeries_Light.pkl')"
   ]
  },
  {
   "cell_type": "code",
   "execution_count": 24,
   "metadata": {
    "ExecuteTime": {
     "end_time": "2020-06-25T21:40:00.575629Z",
     "start_time": "2020-06-25T21:40:00.380382Z"
    }
   },
   "outputs": [],
   "source": [
    "df_lig = df_lig.rename({'sActualValue': 'Light'}, axis=1)"
   ]
  },
  {
   "cell_type": "code",
   "execution_count": 25,
   "metadata": {
    "ExecuteTime": {
     "end_time": "2020-06-25T21:40:05.568652Z",
     "start_time": "2020-06-25T21:40:04.857604Z"
    }
   },
   "outputs": [],
   "source": [
    "df_lig = df_lig.set_index(['Serial', 'Datetime'])"
   ]
  },
  {
   "cell_type": "code",
   "execution_count": 26,
   "metadata": {
    "ExecuteTime": {
     "end_time": "2020-06-25T21:41:33.955308Z",
     "start_time": "2020-06-25T21:40:23.708486Z"
    }
   },
   "outputs": [],
   "source": [
    "df_all = df_all.join(df_lig, how='outer')"
   ]
  },
  {
   "cell_type": "code",
   "execution_count": 27,
   "metadata": {
    "ExecuteTime": {
     "end_time": "2020-06-25T21:41:40.613209Z",
     "start_time": "2020-06-25T21:41:38.096947Z"
    }
   },
   "outputs": [
    {
     "data": {
      "text/plain": [
       "20"
      ]
     },
     "execution_count": 27,
     "metadata": {},
     "output_type": "execute_result"
    }
   ],
   "source": [
    "del df_lig\n",
    "gc.collect()"
   ]
  },
  {
   "cell_type": "code",
   "execution_count": null,
   "metadata": {},
   "outputs": [],
   "source": []
  },
  {
   "cell_type": "code",
   "execution_count": 28,
   "metadata": {
    "ExecuteTime": {
     "end_time": "2020-06-25T21:41:45.585422Z",
     "start_time": "2020-06-25T21:41:44.369420Z"
    }
   },
   "outputs": [],
   "source": [
    "df_bat = pd.read_pickle('GrowTimeSeries_BatteryLevel.pkl')"
   ]
  },
  {
   "cell_type": "code",
   "execution_count": 29,
   "metadata": {
    "ExecuteTime": {
     "end_time": "2020-06-25T21:42:01.427276Z",
     "start_time": "2020-06-25T21:42:01.234614Z"
    }
   },
   "outputs": [],
   "source": [
    "df_bat = df_bat.rename({'sActualValue': 'Battery'}, axis=1)"
   ]
  },
  {
   "cell_type": "code",
   "execution_count": 30,
   "metadata": {
    "ExecuteTime": {
     "end_time": "2020-06-25T21:42:04.469246Z",
     "start_time": "2020-06-25T21:42:03.771898Z"
    }
   },
   "outputs": [],
   "source": [
    "df_bat = df_bat.set_index(['Serial', 'Datetime'])"
   ]
  },
  {
   "cell_type": "code",
   "execution_count": 31,
   "metadata": {
    "ExecuteTime": {
     "end_time": "2020-06-25T21:43:25.272418Z",
     "start_time": "2020-06-25T21:42:05.912126Z"
    }
   },
   "outputs": [],
   "source": [
    "df_all = df_all.join(df_bat, how='outer')"
   ]
  },
  {
   "cell_type": "code",
   "execution_count": 36,
   "metadata": {
    "ExecuteTime": {
     "end_time": "2020-06-25T21:51:51.750302Z",
     "start_time": "2020-06-25T21:51:51.209983Z"
    }
   },
   "outputs": [],
   "source": [
    "df_all = df_all.reset_index()"
   ]
  },
  {
   "cell_type": "code",
   "execution_count": 37,
   "metadata": {
    "ExecuteTime": {
     "end_time": "2020-06-25T21:52:10.712723Z",
     "start_time": "2020-06-25T21:52:06.151792Z"
    }
   },
   "outputs": [],
   "source": [
    "df_all = df_all.sort_values(['Serial', 'Datetime'])"
   ]
  },
  {
   "cell_type": "code",
   "execution_count": 38,
   "metadata": {
    "ExecuteTime": {
     "end_time": "2020-06-25T21:52:17.570206Z",
     "start_time": "2020-06-25T21:52:17.312167Z"
    }
   },
   "outputs": [],
   "source": [
    "df_all = df_all.reset_index()"
   ]
  },
  {
   "cell_type": "code",
   "execution_count": 42,
   "metadata": {
    "ExecuteTime": {
     "end_time": "2020-06-25T21:52:43.138754Z",
     "start_time": "2020-06-25T21:52:43.136099Z"
    }
   },
   "outputs": [],
   "source": [
    "del df_all['index']"
   ]
  },
  {
   "cell_type": "code",
   "execution_count": null,
   "metadata": {},
   "outputs": [],
   "source": []
  },
  {
   "cell_type": "markdown",
   "metadata": {},
   "source": [
    "### Remove data that has no locations"
   ]
  },
  {
   "cell_type": "code",
   "execution_count": null,
   "metadata": {},
   "outputs": [],
   "source": [
    "# df_all = pd.read_pickle('../data/GrowTimeSeries_CombinedHourly_Moistures.pkl')"
   ]
  },
  {
   "cell_type": "code",
   "execution_count": 3,
   "metadata": {
    "ExecuteTime": {
     "end_time": "2020-07-16T09:15:05.223032Z",
     "start_time": "2020-07-16T09:15:04.843581Z"
    }
   },
   "outputs": [],
   "source": [
    "df_loc = pd.read_csv('../data/GrowLocations.csv')"
   ]
  },
  {
   "cell_type": "code",
   "execution_count": 4,
   "metadata": {
    "ExecuteTime": {
     "end_time": "2020-07-16T09:15:05.969882Z",
     "start_time": "2020-07-16T09:15:05.842595Z"
    }
   },
   "outputs": [
    {
     "data": {
      "text/plain": [
       "7"
      ]
     },
     "execution_count": 4,
     "metadata": {},
     "output_type": "execute_result"
    }
   ],
   "source": [
    "df_loc = df_loc[~df_loc.Serial.isnull()].copy()\n",
    "gc.collect()"
   ]
  },
  {
   "cell_type": "code",
   "execution_count": 4,
   "metadata": {
    "ExecuteTime": {
     "end_time": "2020-07-16T09:15:07.998663Z",
     "start_time": "2020-07-16T09:15:07.987862Z"
    }
   },
   "outputs": [],
   "source": [
    "df_loc['Serial'] = df_loc.Serial.apply(lambda x: x[:18])"
   ]
  },
  {
   "cell_type": "code",
   "execution_count": 5,
   "metadata": {
    "ExecuteTime": {
     "end_time": "2020-07-16T09:15:09.707388Z",
     "start_time": "2020-07-16T09:15:08.595531Z"
    }
   },
   "outputs": [],
   "source": [
    "from matplotlib_venn import venn2"
   ]
  },
  {
   "cell_type": "code",
   "execution_count": null,
   "metadata": {
    "ExecuteTime": {
     "end_time": "2020-07-16T09:15:09.895615Z",
     "start_time": "2020-07-16T09:15:09.710228Z"
    }
   },
   "outputs": [],
   "source": [
    "serials_ts = df_all.Serial.unique()\n",
    "serials_loc = df_loc.Serial.unique()"
   ]
  },
  {
   "cell_type": "code",
   "execution_count": null,
   "metadata": {
    "ExecuteTime": {
     "end_time": "2020-07-16T09:15:09.897741Z",
     "start_time": "2020-07-16T09:15:09.558Z"
    }
   },
   "outputs": [],
   "source": [
    "len(serials_ts), len(serials_loc)"
   ]
  },
  {
   "cell_type": "code",
   "execution_count": 39,
   "metadata": {
    "ExecuteTime": {
     "end_time": "2020-07-14T20:46:14.165304Z",
     "start_time": "2020-07-14T20:46:14.120912Z"
    }
   },
   "outputs": [
    {
     "data": {
      "image/png": "[encoded data removed]",
      "text/plain": [
       "<Figure size 432x288 with 1 Axes>"
      ]
     },
     "metadata": {},
     "output_type": "display_data"
    }
   ],
   "source": [
    "venn2([set(serials_ts), set(serials_loc)]);"
   ]
  },
  {
   "cell_type": "code",
   "execution_count": 43,
   "metadata": {
    "ExecuteTime": {
     "end_time": "2020-07-14T20:47:16.825090Z",
     "start_time": "2020-07-14T20:47:15.893076Z"
    }
   },
   "outputs": [],
   "source": [
    "df_all.to_pickle('GrowTimeSeries_CombinedHourly.pkl')"
   ]
  },
  {
   "cell_type": "markdown",
   "metadata": {},
   "source": [
    "#### Remove null moistures"
   ]
  },
  {
   "cell_type": "code",
   "execution_count": 7,
   "metadata": {
    "ExecuteTime": {
     "end_time": "2020-07-16T09:16:31.916476Z",
     "start_time": "2020-07-16T09:16:27.181406Z"
    }
   },
   "outputs": [],
   "source": [
    "df_all = pd.read_pickle('../data/GrowTimeSeries_CombinedHourly.pkl')"
   ]
  },
  {
   "cell_type": "code",
   "execution_count": 8,
   "metadata": {
    "ExecuteTime": {
     "end_time": "2020-07-16T09:16:33.951183Z",
     "start_time": "2020-07-16T09:16:33.923718Z"
    }
   },
   "outputs": [
    {
     "data": {
      "text/plain": [
       "7824839"
      ]
     },
     "execution_count": 8,
     "metadata": {},
     "output_type": "execute_result"
    }
   ],
   "source": [
    "df_all.Moisture.isnull().sum()"
   ]
  },
  {
   "cell_type": "code",
   "execution_count": 9,
   "metadata": {
    "ExecuteTime": {
     "end_time": "2020-07-16T09:16:38.396223Z",
     "start_time": "2020-07-16T09:16:38.000774Z"
    }
   },
   "outputs": [],
   "source": [
    "df_all2 = df_all[~df_all.Moisture.isnull()].copy()"
   ]
  },
  {
   "cell_type": "code",
   "execution_count": 10,
   "metadata": {
    "ExecuteTime": {
     "end_time": "2020-07-16T09:16:40.186366Z",
     "start_time": "2020-07-16T09:16:40.183123Z"
    }
   },
   "outputs": [
    {
     "data": {
      "text/plain": [
       "((15177351, 6), (7352512, 6))"
      ]
     },
     "execution_count": 10,
     "metadata": {},
     "output_type": "execute_result"
    }
   ],
   "source": [
    "df_all.shape, df_all2.shape"
   ]
  },
  {
   "cell_type": "markdown",
   "metadata": {},
   "source": [
    "#### Add location info"
   ]
  },
  {
   "cell_type": "code",
   "execution_count": 14,
   "metadata": {
    "ExecuteTime": {
     "end_time": "2020-07-16T09:17:27.864507Z",
     "start_time": "2020-07-16T09:17:22.106316Z"
    }
   },
   "outputs": [],
   "source": [
    "ds_nlocs = df_loc.groupby('Serial')[['Latitude', 'Longitude']].apply(lambda dfnow: dfnow.drop_duplicates().shape[0])\n",
    "\n",
    "serials_multiloc = list(ds_nlocs[ds_nlocs>1].index)"
   ]
  },
  {
   "cell_type": "code",
   "execution_count": 15,
   "metadata": {
    "ExecuteTime": {
     "end_time": "2020-07-16T09:17:27.869122Z",
     "start_time": "2020-07-16T09:17:27.866265Z"
    }
   },
   "outputs": [
    {
     "data": {
      "text/plain": [
       "190"
      ]
     },
     "execution_count": 15,
     "metadata": {},
     "output_type": "execute_result"
    }
   ],
   "source": [
    "len(serials_multiloc)"
   ]
  },
  {
   "cell_type": "code",
   "execution_count": 16,
   "metadata": {
    "ExecuteTime": {
     "end_time": "2020-07-16T09:17:56.160838Z",
     "start_time": "2020-07-16T09:17:55.404479Z"
    }
   },
   "outputs": [
    {
     "data": {
      "text/plain": [
       "78"
      ]
     },
     "execution_count": 16,
     "metadata": {},
     "output_type": "execute_result"
    }
   ],
   "source": [
    "df_all2 = df_all2[~df_all2.Serial.isin(serials_multiloc)].copy()\n",
    "gc.collect()"
   ]
  },
  {
   "cell_type": "code",
   "execution_count": 18,
   "metadata": {
    "ExecuteTime": {
     "end_time": "2020-07-16T09:18:12.965099Z",
     "start_time": "2020-07-16T09:18:12.676333Z"
    }
   },
   "outputs": [
    {
     "data": {
      "text/plain": [
       "((7122491, 6), 5750)"
      ]
     },
     "execution_count": 18,
     "metadata": {},
     "output_type": "execute_result"
    }
   ],
   "source": [
    "df_all2.shape, df_all2.Serial.nunique()"
   ]
  },
  {
   "cell_type": "code",
   "execution_count": 22,
   "metadata": {
    "ExecuteTime": {
     "end_time": "2020-07-16T09:20:35.243121Z",
     "start_time": "2020-07-16T09:20:35.218036Z"
    }
   },
   "outputs": [],
   "source": [
    "df_loc2 = df_loc[~df_loc.Serial.isin(serials_multiloc)].copy().drop_duplicates('Serial')"
   ]
  },
  {
   "cell_type": "code",
   "execution_count": 23,
   "metadata": {
    "ExecuteTime": {
     "end_time": "2020-07-16T09:20:36.218441Z",
     "start_time": "2020-07-16T09:20:36.214506Z"
    }
   },
   "outputs": [
    {
     "data": {
      "text/plain": [
       "(6099, 8)"
      ]
     },
     "execution_count": 23,
     "metadata": {},
     "output_type": "execute_result"
    }
   ],
   "source": [
    "df_loc2.shape"
   ]
  },
  {
   "cell_type": "code",
   "execution_count": 24,
   "metadata": {
    "ExecuteTime": {
     "end_time": "2020-07-16T09:21:08.941955Z",
     "start_time": "2020-07-16T09:21:08.705112Z"
    }
   },
   "outputs": [
    {
     "data": {
      "text/plain": [
       "0"
      ]
     },
     "execution_count": 24,
     "metadata": {},
     "output_type": "execute_result"
    }
   ],
   "source": [
    "(~df_all2.Serial.isin(df_loc2.Serial.unique())).sum()"
   ]
  },
  {
   "cell_type": "code",
   "execution_count": 43,
   "metadata": {
    "ExecuteTime": {
     "end_time": "2020-07-16T09:26:09.429992Z",
     "start_time": "2020-07-16T09:26:09.424834Z"
    }
   },
   "outputs": [],
   "source": [
    "df_loc3 = df_loc2.drop_duplicates(['Latitude', 'Longitude']).reset_index(drop=True)"
   ]
  },
  {
   "cell_type": "code",
   "execution_count": 45,
   "metadata": {
    "ExecuteTime": {
     "end_time": "2020-07-16T09:26:24.731266Z",
     "start_time": "2020-07-16T09:26:24.728311Z"
    }
   },
   "outputs": [],
   "source": [
    "df_loc3['LocId'] = df_loc3.index"
   ]
  },
  {
   "cell_type": "code",
   "execution_count": 49,
   "metadata": {
    "ExecuteTime": {
     "end_time": "2020-07-16T09:27:15.516265Z",
     "start_time": "2020-07-16T09:27:15.502830Z"
    }
   },
   "outputs": [],
   "source": [
    "df_loc2 = df_loc2.join(df_loc3.set_index(['Latitude', 'Longitude'])['LocId'], ['Latitude', 'Longitude'])"
   ]
  },
  {
   "cell_type": "code",
   "execution_count": 50,
   "metadata": {
    "ExecuteTime": {
     "end_time": "2020-07-16T09:27:22.711282Z",
     "start_time": "2020-07-16T09:27:22.707545Z"
    }
   },
   "outputs": [
    {
     "data": {
      "text/plain": [
       "2076"
      ]
     },
     "execution_count": 50,
     "metadata": {},
     "output_type": "execute_result"
    }
   ],
   "source": [
    "df_loc2.LocId.nunique()"
   ]
  },
  {
   "cell_type": "code",
   "execution_count": 52,
   "metadata": {
    "ExecuteTime": {
     "end_time": "2020-07-16T09:27:54.235906Z",
     "start_time": "2020-07-16T09:27:53.604671Z"
    }
   },
   "outputs": [],
   "source": [
    "df_all2 = df_all2.join(df_loc2.set_index('Serial')[['Latitude', 'Longitude', 'LocId']], 'Serial')"
   ]
  },
  {
   "cell_type": "code",
   "execution_count": 53,
   "metadata": {
    "ExecuteTime": {
     "end_time": "2020-07-16T09:28:02.815080Z",
     "start_time": "2020-07-16T09:28:02.780092Z"
    }
   },
   "outputs": [
    {
     "data": {
      "text/plain": [
       "((7122491, 9), 2019)"
      ]
     },
     "execution_count": 53,
     "metadata": {},
     "output_type": "execute_result"
    }
   ],
   "source": [
    "df_all2.shape, df_all2.LocId.nunique()"
   ]
  },
  {
   "cell_type": "code",
   "execution_count": 4,
   "metadata": {
    "ExecuteTime": {
     "end_time": "2020-07-16T09:37:01.087795Z",
     "start_time": "2020-07-16T09:37:01.062548Z"
    }
   },
   "outputs": [],
   "source": [
    "del df_all2['Serial']"
   ]
  },
  {
   "cell_type": "code",
   "execution_count": 6,
   "metadata": {
    "ExecuteTime": {
     "end_time": "2020-07-16T09:37:32.017935Z",
     "start_time": "2020-07-16T09:37:31.794187Z"
    }
   },
   "outputs": [
    {
     "data": {
      "text/plain": [
       "2019"
      ]
     },
     "execution_count": 6,
     "metadata": {},
     "output_type": "execute_result"
    }
   ],
   "source": [
    "df_all2.drop_duplicates(['Latitude', 'Longitude']).shape[0]"
   ]
  },
  {
   "cell_type": "code",
   "execution_count": 15,
   "metadata": {
    "ExecuteTime": {
     "end_time": "2020-07-16T09:41:14.009298Z",
     "start_time": "2020-07-16T09:41:12.131356Z"
    }
   },
   "outputs": [],
   "source": [
    "df_all2 = df_all2.groupby(['LocId', 'Datetime']).mean().reset_index()"
   ]
  },
  {
   "cell_type": "code",
   "execution_count": 19,
   "metadata": {
    "ExecuteTime": {
     "end_time": "2020-07-16T09:42:06.689240Z",
     "start_time": "2020-07-16T09:42:06.670732Z"
    }
   },
   "outputs": [
    {
     "data": {
      "text/plain": [
       "2019"
      ]
     },
     "execution_count": 19,
     "metadata": {},
     "output_type": "execute_result"
    }
   ],
   "source": [
    "df_all2.LocId.nunique()"
   ]
  },
  {
   "cell_type": "markdown",
   "metadata": {},
   "source": [
    "#### Remove locations which have less than 48 hours of data"
   ]
  },
  {
   "cell_type": "code",
   "execution_count": 17,
   "metadata": {
    "ExecuteTime": {
     "end_time": "2020-07-16T09:41:34.121932Z",
     "start_time": "2020-07-16T09:41:33.678743Z"
    }
   },
   "outputs": [
    {
     "data": {
      "image/png": "[encoded data removed]",
      "text/plain": [
       "<Figure size 432x288 with 1 Axes>"
      ]
     },
     "metadata": {
      "needs_background": "light"
     },
     "output_type": "display_data"
    }
   ],
   "source": [
    "plt.hist(df_all2.groupby('LocId').LocId.count(), bins=100);"
   ]
  },
  {
   "cell_type": "code",
   "execution_count": 22,
   "metadata": {
    "ExecuteTime": {
     "end_time": "2020-07-16T09:42:51.085613Z",
     "start_time": "2020-07-16T09:42:51.021023Z"
    }
   },
   "outputs": [
    {
     "data": {
      "text/plain": [
       "1963"
      ]
     },
     "execution_count": 22,
     "metadata": {},
     "output_type": "execute_result"
    }
   ],
   "source": [
    "(df_all2.groupby('LocId').LocId.count()>48).sum()"
   ]
  },
  {
   "cell_type": "code",
   "execution_count": 23,
   "metadata": {
    "ExecuteTime": {
     "end_time": "2020-07-16T09:42:52.434694Z",
     "start_time": "2020-07-16T09:42:52.432372Z"
    }
   },
   "outputs": [],
   "source": [
    "min_count = 48"
   ]
  },
  {
   "cell_type": "code",
   "execution_count": 25,
   "metadata": {
    "ExecuteTime": {
     "end_time": "2020-07-16T09:44:44.019073Z",
     "start_time": "2020-07-16T09:44:43.649590Z"
    }
   },
   "outputs": [],
   "source": [
    "dstmp = df_all2.groupby('LocId').LocId.count()\n",
    "locs_drop = dstmp[dstmp < min_count].index\n",
    "df_all2 = df_all2[~df_all2.LocId.isin(locs_drop)]"
   ]
  },
  {
   "cell_type": "code",
   "execution_count": 27,
   "metadata": {
    "ExecuteTime": {
     "end_time": "2020-07-16T09:44:57.214377Z",
     "start_time": "2020-07-16T09:44:57.193019Z"
    }
   },
   "outputs": [
    {
     "data": {
      "text/plain": [
       "((3983541, 8), 1964)"
      ]
     },
     "execution_count": 27,
     "metadata": {},
     "output_type": "execute_result"
    }
   ],
   "source": [
    "df_all2.shape, df_all2.LocId.nunique()"
   ]
  },
  {
   "cell_type": "markdown",
   "metadata": {},
   "source": [
    "#### Remove Locations which have 0 Moisture value at least for one hour"
   ]
  },
  {
   "cell_type": "code",
   "execution_count": 29,
   "metadata": {
    "ExecuteTime": {
     "end_time": "2020-07-16T09:45:33.257815Z",
     "start_time": "2020-07-16T09:45:33.246415Z"
    }
   },
   "outputs": [
    {
     "data": {
      "text/plain": [
       "179529"
      ]
     },
     "execution_count": 29,
     "metadata": {},
     "output_type": "execute_result"
    }
   ],
   "source": [
    "(df_all2.Moisture == 0).sum()"
   ]
  },
  {
   "cell_type": "code",
   "execution_count": 30,
   "metadata": {
    "ExecuteTime": {
     "end_time": "2020-07-16T09:46:11.867693Z",
     "start_time": "2020-07-16T09:46:11.861017Z"
    }
   },
   "outputs": [],
   "source": [
    "df_all2['ZeroMoist'] = df_all2.Moisture == 0"
   ]
  },
  {
   "cell_type": "code",
   "execution_count": 32,
   "metadata": {
    "ExecuteTime": {
     "end_time": "2020-07-16T09:46:39.891507Z",
     "start_time": "2020-07-16T09:46:39.842223Z"
    }
   },
   "outputs": [
    {
     "data": {
      "text/plain": [
       "1388"
      ]
     },
     "execution_count": 32,
     "metadata": {},
     "output_type": "execute_result"
    }
   ],
   "source": [
    "(df_all2.groupby('LocId').ZeroMoist.sum() == 0).sum()"
   ]
  },
  {
   "cell_type": "code",
   "execution_count": 37,
   "metadata": {
    "ExecuteTime": {
     "end_time": "2020-07-16T09:48:23.955365Z",
     "start_time": "2020-07-16T09:48:23.715682Z"
    }
   },
   "outputs": [],
   "source": [
    "dstmp = df_all2.groupby('LocId').ZeroMoist.sum()\n",
    "locs_keep = dstmp[dstmp==0].index\n",
    "df_all2 = df_all2[df_all2.LocId.isin(locs_keep)]"
   ]
  },
  {
   "cell_type": "code",
   "execution_count": 38,
   "metadata": {
    "ExecuteTime": {
     "end_time": "2020-07-16T09:48:30.045292Z",
     "start_time": "2020-07-16T09:48:30.029336Z"
    }
   },
   "outputs": [
    {
     "data": {
      "text/plain": [
       "((2348080, 9), 1388)"
      ]
     },
     "execution_count": 38,
     "metadata": {},
     "output_type": "execute_result"
    }
   ],
   "source": [
    "df_all2.shape, df_all2.LocId.nunique()"
   ]
  },
  {
   "cell_type": "markdown",
   "metadata": {},
   "source": [
    "#### Latitude and Longitude are switched in the original dataset, switch them back"
   ]
  },
  {
   "cell_type": "code",
   "execution_count": 4,
   "metadata": {
    "ExecuteTime": {
     "end_time": "2020-07-16T10:30:30.222633Z",
     "start_time": "2020-07-16T10:30:30.194244Z"
    }
   },
   "outputs": [],
   "source": [
    "dstmp = df_all2['Latitude'].copy()\n",
    "df_all2['Latitude'] = df_all2['Longitude'].copy()\n",
    "df_all2['Longitude'] = dstmp"
   ]
  },
  {
   "cell_type": "code",
   "execution_count": 5,
   "metadata": {
    "ExecuteTime": {
     "end_time": "2020-07-16T10:30:33.092566Z",
     "start_time": "2020-07-16T10:30:31.928192Z"
    }
   },
   "outputs": [],
   "source": [
    "df_all2.to_pickle('../data/ts_data_pp01.pkl')"
   ]
  },
  {
   "cell_type": "code",
   "execution_count": 55,
   "metadata": {
    "ExecuteTime": {
     "end_time": "2020-07-16T09:28:55.169394Z",
     "start_time": "2020-07-16T09:28:55.165959Z"
    }
   },
   "outputs": [
    {
     "data": {
      "text/plain": [
       "Index(['Serial', 'Datetime', 'Moisture', 'Temperature', 'Light', 'Battery',\n",
       "       'Latitude', 'Longitude', 'LocId'],\n",
       "      dtype='object')"
      ]
     },
     "execution_count": 55,
     "metadata": {},
     "output_type": "execute_result"
    }
   ],
   "source": [
    "df_all2.columns"
   ]
  },
  {
   "cell_type": "code",
   "execution_count": null,
   "metadata": {},
   "outputs": [],
   "source": []
  },
  {
   "cell_type": "code",
   "execution_count": null,
   "metadata": {},
   "outputs": [],
   "source": []
  },
  {
   "cell_type": "code",
   "execution_count": null,
   "metadata": {},
   "outputs": [],
   "source": []
  },
  {
   "cell_type": "markdown",
   "metadata": {},
   "source": [
    "#### Check for serials that has multiple location coordinates"
   ]
  },
  {
   "cell_type": "code",
   "execution_count": 51,
   "metadata": {
    "ExecuteTime": {
     "end_time": "2020-07-14T20:54:44.364552Z",
     "start_time": "2020-07-14T20:54:38.119948Z"
    }
   },
   "outputs": [],
   "source": [
    "df_all3 = df_all2.join(df_loc.set_index('Serial')[['Latitude', 'Longitude']], 'Serial')"
   ]
  },
  {
   "cell_type": "code",
   "execution_count": 55,
   "metadata": {
    "ExecuteTime": {
     "end_time": "2020-07-14T20:55:53.313782Z",
     "start_time": "2020-07-14T20:55:47.294989Z"
    }
   },
   "outputs": [
    {
     "data": {
      "text/plain": [
       "(5933, 6123)"
      ]
     },
     "execution_count": 55,
     "metadata": {},
     "output_type": "execute_result"
    }
   ],
   "source": [
    "df_all3.Serial.nunique(), df_all3.drop_duplicates(['Serial', 'Latitude', 'Longitude']).shape[0]"
   ]
  },
  {
   "cell_type": "code",
   "execution_count": 56,
   "metadata": {
    "ExecuteTime": {
     "end_time": "2020-07-14T20:57:26.977314Z",
     "start_time": "2020-07-14T20:57:19.531951Z"
    }
   },
   "outputs": [
    {
     "data": {
      "text/plain": [
       "Serial\n",
       "PI040290AA00000000    1\n",
       "PI040297AA3I001108    3\n",
       "PI040297AA3J001403    1\n",
       "PI040297AA3J001785    1\n",
       "PI040297AA3J001991    1\n",
       "                     ..\n",
       "PI040307AD5I204915    1\n",
       "PI040307AD5I204924    1\n",
       "PI040307AD5I204927    1\n",
       "PI040307AD5I204938    1\n",
       "PPI040297AD5I20567    1\n",
       "Name: Latitude, Length: 5933, dtype: int64"
      ]
     },
     "execution_count": 56,
     "metadata": {},
     "output_type": "execute_result"
    }
   ],
   "source": [
    "df_all3.groupby('Serial').Latitude.nunique()"
   ]
  },
  {
   "cell_type": "code",
   "execution_count": 61,
   "metadata": {
    "ExecuteTime": {
     "end_time": "2020-07-14T21:00:29.483206Z",
     "start_time": "2020-07-14T21:00:27.003623Z"
    }
   },
   "outputs": [
    {
     "data": {
      "text/plain": [
       "Latitude  Longitude\n",
       "0.000     0.000        3930\n",
       "19.813    48.004       7860\n",
       "19.817    48.015       3930\n",
       "Name: Light, dtype: int64"
      ]
     },
     "execution_count": 61,
     "metadata": {},
     "output_type": "execute_result"
    }
   ],
   "source": [
    "df_all3[df_all3.Serial == 'PI040297AA3I001108'].groupby(['Latitude', 'Longitude']).Light.count()"
   ]
  },
  {
   "cell_type": "code",
   "execution_count": 59,
   "metadata": {
    "ExecuteTime": {
     "end_time": "2020-07-14T20:59:00.028417Z",
     "start_time": "2020-07-14T20:59:00.020779Z"
    }
   },
   "outputs": [
    {
     "data": {
      "text/plain": [
       "904"
      ]
     },
     "execution_count": 59,
     "metadata": {},
     "output_type": "execute_result"
    }
   ],
   "source": [
    "df_loc[df_loc.Latitude == 0].Serial.nunique()"
   ]
  },
  {
   "cell_type": "code",
   "execution_count": 62,
   "metadata": {
    "ExecuteTime": {
     "end_time": "2020-07-14T21:01:17.439498Z",
     "start_time": "2020-07-14T21:01:16.860411Z"
    }
   },
   "outputs": [
    {
     "data": {
      "text/plain": [
       "837"
      ]
     },
     "execution_count": 62,
     "metadata": {},
     "output_type": "execute_result"
    }
   ],
   "source": [
    "df_all3[df_all3.Latitude == 0].Serial.nunique()"
   ]
  },
  {
   "cell_type": "code",
   "execution_count": 63,
   "metadata": {
    "ExecuteTime": {
     "end_time": "2020-07-14T21:01:31.122166Z",
     "start_time": "2020-07-14T21:01:29.335198Z"
    }
   },
   "outputs": [
    {
     "data": {
      "text/plain": [
       "5933"
      ]
     },
     "execution_count": 63,
     "metadata": {},
     "output_type": "execute_result"
    }
   ],
   "source": [
    "df_all3.Serial.nunique()"
   ]
  },
  {
   "cell_type": "code",
   "execution_count": 76,
   "metadata": {
    "ExecuteTime": {
     "end_time": "2020-07-14T21:11:34.380092Z",
     "start_time": "2020-07-14T21:11:34.375183Z"
    }
   },
   "outputs": [
    {
     "name": "stdout",
     "output_type": "stream",
     "text": [
      "0\n",
      "0\n"
     ]
    }
   ],
   "source": [
    "print(((df_loc.Latitude != 0) & (df_loc.Longitude == 0)).sum())\n",
    "print(((df_loc.Latitude == 0) & (df_loc.Longitude != 0)).sum())"
   ]
  },
  {
   "cell_type": "code",
   "execution_count": 77,
   "metadata": {
    "ExecuteTime": {
     "end_time": "2020-07-14T21:11:58.898812Z",
     "start_time": "2020-07-14T21:11:58.657250Z"
    }
   },
   "outputs": [
    {
     "data": {
      "text/plain": [
       "4494"
      ]
     },
     "execution_count": 77,
     "metadata": {},
     "output_type": "execute_result"
    }
   ],
   "source": [
    "df_loc = df_loc[df_loc.Latitude != 0].copy()\n",
    "gc.collect()"
   ]
  },
  {
   "cell_type": "code",
   "execution_count": 78,
   "metadata": {
    "ExecuteTime": {
     "end_time": "2020-07-14T21:12:02.152744Z",
     "start_time": "2020-07-14T21:12:02.149716Z"
    }
   },
   "outputs": [
    {
     "data": {
      "text/plain": [
       "(33702, 8)"
      ]
     },
     "execution_count": 78,
     "metadata": {},
     "output_type": "execute_result"
    }
   ],
   "source": [
    "df_loc.shape"
   ]
  },
  {
   "cell_type": "code",
   "execution_count": 79,
   "metadata": {
    "ExecuteTime": {
     "end_time": "2020-07-14T21:12:10.361506Z",
     "start_time": "2020-07-14T21:12:05.346285Z"
    }
   },
   "outputs": [],
   "source": [
    "ds_nlocs = df_loc.groupby('Serial')[['Latitude', 'Longitude']].apply(lambda dfnow: dfnow.drop_duplicates().shape[0])\n",
    "\n",
    "serials_multiloc = list(ds_nlocs[ds_nlocs>1].index)"
   ]
  },
  {
   "cell_type": "code",
   "execution_count": 81,
   "metadata": {
    "ExecuteTime": {
     "end_time": "2020-07-14T21:12:11.362319Z",
     "start_time": "2020-07-14T21:12:11.358459Z"
    }
   },
   "outputs": [
    {
     "data": {
      "text/plain": [
       "119"
      ]
     },
     "execution_count": 81,
     "metadata": {},
     "output_type": "execute_result"
    }
   ],
   "source": [
    "len(serials_multiloc)"
   ]
  },
  {
   "cell_type": "code",
   "execution_count": 85,
   "metadata": {
    "ExecuteTime": {
     "end_time": "2020-07-14T21:12:57.890623Z",
     "start_time": "2020-07-14T21:12:57.801870Z"
    }
   },
   "outputs": [
    {
     "data": {
      "text/plain": [
       "1    5341\n",
       "2     116\n",
       "3       3\n",
       "dtype: int64"
      ]
     },
     "execution_count": 85,
     "metadata": {},
     "output_type": "execute_result"
    }
   ],
   "source": [
    "ds_nlocs.value_counts()"
   ]
  },
  {
   "cell_type": "code",
   "execution_count": 89,
   "metadata": {
    "ExecuteTime": {
     "end_time": "2020-07-14T21:20:37.007241Z",
     "start_time": "2020-07-14T21:20:36.998113Z"
    }
   },
   "outputs": [],
   "source": [
    "df_loc_multiloc = df_loc[df_loc.Serial.isin(serials_multiloc)].drop_duplicates(['Serial', 'Latitude','Longitude'])"
   ]
  },
  {
   "cell_type": "code",
   "execution_count": null,
   "metadata": {},
   "outputs": [],
   "source": []
  },
  {
   "cell_type": "code",
   "execution_count": 99,
   "metadata": {
    "ExecuteTime": {
     "end_time": "2020-07-14T21:23:16.250736Z",
     "start_time": "2020-07-14T21:23:16.246168Z"
    }
   },
   "outputs": [
    {
     "data": {
      "text/plain": [
       "866.4554329098684"
      ]
     },
     "execution_count": 99,
     "metadata": {},
     "output_type": "execute_result"
    }
   ],
   "source": [
    "newport_ri = (41.49008, -71.312796)\n",
    "cleveland_oh = (41.499498, -81.695391)\n",
    "gd.distance(newport_ri, cleveland_oh).km"
   ]
  },
  {
   "cell_type": "code",
   "execution_count": 102,
   "metadata": {
    "ExecuteTime": {
     "end_time": "2020-07-14T21:26:40.816646Z",
     "start_time": "2020-07-14T21:26:40.812787Z"
    }
   },
   "outputs": [],
   "source": [
    "def get_max_dist(dff):\n",
    "    \n",
    "    nrows = dff.shape[0]\n",
    "    \n",
    "    dist = 0\n",
    "    \n",
    "    for i in range(nrows):\n",
    "        l1 = (dff.iloc[i].Latitude, dff.iloc[i].Longitude)\n",
    "        for j in range(i, nrows):\n",
    "            l2 = (dff.iloc[j].Latitude, dff.iloc[j].Longitude)\n",
    "            dist = max(dist, gd.distance(l1, l2).km)\n",
    "            \n",
    "    return dist"
   ]
  },
  {
   "cell_type": "code",
   "execution_count": 117,
   "metadata": {
    "ExecuteTime": {
     "end_time": "2020-07-14T21:30:59.136143Z",
     "start_time": "2020-07-14T21:30:59.131542Z"
    }
   },
   "outputs": [],
   "source": [
    "df_loc_multiloc = df_loc_multiloc.set_index('Serial', drop=True)"
   ]
  },
  {
   "cell_type": "code",
   "execution_count": 118,
   "metadata": {
    "ExecuteTime": {
     "end_time": "2020-07-14T21:31:03.751810Z",
     "start_time": "2020-07-14T21:31:03.557929Z"
    }
   },
   "outputs": [],
   "source": [
    "df_loc_multiloc['MaxDist'] = df_loc_multiloc.groupby('Serial')[['Latitude', 'Longitude']].apply(get_max_dist)"
   ]
  },
  {
   "cell_type": "code",
   "execution_count": 125,
   "metadata": {
    "ExecuteTime": {
     "end_time": "2020-07-14T21:34:34.812551Z",
     "start_time": "2020-07-14T21:34:34.543190Z"
    }
   },
   "outputs": [
    {
     "data": {
      "image/png": "[encoded data removed]",
      "text/plain": [
       "<Figure size 432x288 with 1 Axes>"
      ]
     },
     "metadata": {
      "needs_background": "light"
     },
     "output_type": "display_data"
    }
   ],
   "source": [
    "plt.hist(df_loc_multiloc['MaxDist'], bins=100, range=[0,5]);"
   ]
  },
  {
   "cell_type": "code",
   "execution_count": null,
   "metadata": {},
   "outputs": [],
   "source": []
  },
  {
   "cell_type": "code",
   "execution_count": 48,
   "metadata": {
    "ExecuteTime": {
     "end_time": "2020-07-14T20:48:55.108295Z",
     "start_time": "2020-07-14T20:48:54.588697Z"
    }
   },
   "outputs": [],
   "source": [
    "df_all2.to_pickle('../data/GrowTimeSeries_CombinedHourly_Moistures.pkl')"
   ]
  },
  {
   "cell_type": "code",
   "execution_count": null,
   "metadata": {},
   "outputs": [],
   "source": []
  },
  {
   "cell_type": "code",
   "execution_count": 5,
   "metadata": {
    "ExecuteTime": {
     "end_time": "2020-07-14T20:37:06.892911Z",
     "start_time": "2020-07-14T20:37:06.803062Z"
    }
   },
   "outputs": [
    {
     "data": {
      "text/plain": [
       "1384433"
      ]
     },
     "execution_count": 5,
     "metadata": {},
     "output_type": "execute_result"
    }
   ],
   "source": [
    "((~df_all['Moisture'].isnull()) & (~df_all['Temperature'].isnull()) & (~df_all['Light'].isnull()) & \\\n",
    "    (~df_all['Battery'].isnull())).sum()"
   ]
  },
  {
   "cell_type": "code",
   "execution_count": 6,
   "metadata": {
    "ExecuteTime": {
     "end_time": "2020-07-14T20:37:09.266102Z",
     "start_time": "2020-07-14T20:37:09.196307Z"
    }
   },
   "outputs": [
    {
     "data": {
      "text/plain": [
       "1993565"
      ]
     },
     "execution_count": 6,
     "metadata": {},
     "output_type": "execute_result"
    }
   ],
   "source": [
    "((~df_all['Moisture'].isnull()) & (~df_all['Temperature'].isnull()) & (~df_all['Light'].isnull()) ).sum()"
   ]
  },
  {
   "cell_type": "code",
   "execution_count": 7,
   "metadata": {
    "ExecuteTime": {
     "end_time": "2020-07-14T20:37:13.172781Z",
     "start_time": "2020-07-14T20:37:12.409215Z"
    }
   },
   "outputs": [
    {
     "data": {
      "text/plain": [
       "Moisture       22.927435\n",
       "Temperature    17.156536\n",
       "Light          12.318229\n",
       "Battery        73.947433\n",
       "dtype: float32"
      ]
     },
     "execution_count": 7,
     "metadata": {},
     "output_type": "execute_result"
    }
   ],
   "source": [
    "df_all[['Moisture', 'Temperature', 'Light', 'Battery']].mean()"
   ]
  },
  {
   "cell_type": "code",
   "execution_count": 9,
   "metadata": {
    "ExecuteTime": {
     "end_time": "2020-07-14T20:37:17.379593Z",
     "start_time": "2020-07-14T20:37:16.969682Z"
    }
   },
   "outputs": [
    {
     "data": {
      "image/png": "[encoded data removed]",
      "text/plain": [
       "<Figure size 432x288 with 1 Axes>"
      ]
     },
     "metadata": {
      "needs_background": "light"
     },
     "output_type": "display_data"
    }
   ],
   "source": [
    "plt.hist(df_all.Battery, bins=100);"
   ]
  },
  {
   "cell_type": "code",
   "execution_count": 10,
   "metadata": {
    "ExecuteTime": {
     "end_time": "2020-07-14T20:37:20.211107Z",
     "start_time": "2020-07-14T20:37:19.852457Z"
    }
   },
   "outputs": [
    {
     "data": {
      "image/png": "[encoded data removed]",
      "text/plain": [
       "<Figure size 432x288 with 1 Axes>"
      ]
     },
     "metadata": {
      "needs_background": "light"
     },
     "output_type": "display_data"
    }
   ],
   "source": [
    "plt.hist(df_all.Light, bins=100);"
   ]
  },
  {
   "cell_type": "code",
   "execution_count": 11,
   "metadata": {
    "ExecuteTime": {
     "end_time": "2020-07-14T20:37:25.312817Z",
     "start_time": "2020-07-14T20:37:24.926981Z"
    }
   },
   "outputs": [
    {
     "data": {
      "image/png": "[encoded data removed]",
      "text/plain": [
       "<Figure size 432x288 with 1 Axes>"
      ]
     },
     "metadata": {
      "needs_background": "light"
     },
     "output_type": "display_data"
    }
   ],
   "source": [
    "plt.hist(df_all.Temperature, bins=100);"
   ]
  },
  {
   "cell_type": "code",
   "execution_count": null,
   "metadata": {},
   "outputs": [],
   "source": []
  },
  {
   "cell_type": "code",
   "execution_count": null,
   "metadata": {},
   "outputs": [],
   "source": []
  },
  {
   "cell_type": "code",
   "execution_count": null,
   "metadata": {},
   "outputs": [],
   "source": []
  }
 ],
 "metadata": {
  "kernelspec": {
   "display_name": "Python 3",
   "language": "python",
   "name": "python3"
  },
  "language_info": {
   "codemirror_mode": {
    "name": "ipython",
    "version": 3
   },
   "file_extension": ".py",
   "mimetype": "text/x-python",
   "name": "python",
   "nbconvert_exporter": "python",
   "pygments_lexer": "ipython3",
   "version": "3.8.5"
  }
 },
 "nbformat": 4,
 "nbformat_minor": 4
}
